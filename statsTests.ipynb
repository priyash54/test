{
 "cells": [
  {
   "cell_type": "code",
   "execution_count": 30,
   "metadata": {},
   "outputs": [],
   "source": [
    "import numpy as np\n",
    "import matplotlib.pyplot as plt\n",
    "from scipy import stats\n",
    "%matplotlib inline"
   ]
  },
  {
   "cell_type": "markdown",
   "metadata": {},
   "source": [
    "we use the randn function to generate noise"
   ]
  },
  {
   "cell_type": "code",
   "execution_count": 31,
   "metadata": {},
   "outputs": [
    {
     "name": "stdout",
     "output_type": "stream",
     "text": [
      "-0.6951321934067716\n"
     ]
    }
   ],
   "source": [
    "rand = np.random.randn\n",
    "a = rand() \n",
    "print(a)"
   ]
  },
  {
   "cell_type": "code",
   "execution_count": 61,
   "metadata": {},
   "outputs": [],
   "source": [
    "# Generate a sequence to analyse\n",
    "x = np.linspace(-5,5,101)       # independent variable in the analysis; \n",
    "#print(x)\n",
    "gamma = 5                     # slope to generate data; low value means less contribution of x and more of noise\n",
    "ySimulated = gamma * x*x + rand(101) + 5 "
   ]
  },
  {
   "cell_type": "code",
   "execution_count": 62,
   "metadata": {},
   "outputs": [
    {
     "data": {
      "text/plain": [
       "<matplotlib.collections.PathCollection at 0x224e0266388>"
      ]
     },
     "execution_count": 62,
     "metadata": {},
     "output_type": "execute_result"
    },
    {
     "data": {
      "image/png": "[encoded data removed]",
      "text/plain": [
       "<Figure size 432x288 with 1 Axes>"
      ]
     },
     "metadata": {
      "needs_background": "light"
     },
     "output_type": "display_data"
    }
   ],
   "source": [
    "plt.scatter(x,ySimulated,c=\"r\",s=10, marker = '*')"
   ]
  },
  {
   "cell_type": "code",
   "execution_count": 63,
   "metadata": {
    "scrolled": true
   },
   "outputs": [
    {
     "name": "stdout",
     "output_type": "stream",
     "text": [
      "8.5 1441.5526175309635 [[8.58500000e+00 1.25940922e-01]\n",
      " [1.25940922e-01 1.45596814e+03]]\n",
      "\n",
      "[[8.58500000e+00 1.25940922e-01]\n",
      " [1.25940922e-01 1.45596814e+03]]\n"
     ]
    },
    {
     "data": {
      "text/plain": [
       "array([[1.        , 0.00112647],\n",
       "       [0.00112647, 1.        ]])"
      ]
     },
     "execution_count": 63,
     "metadata": {},
     "output_type": "execute_result"
    }
   ],
   "source": [
    "# calculating the statistical measures (mean and variances)\n",
    "mu_ySim = ySimulated.mean()\n",
    "mu_x = x.mean()\n",
    "covxy = np.cov(x,ySimulated)\n",
    "varx = np.var(x)\n",
    "vary = np.var(ySimulated)\n",
    "# another way np.cov() works is directly on a block of data\n",
    "X = np.array([x,ySimulated]) # we are just stacking x and ySimulated; see X.shape below\n",
    "#print(x.shape,X.shape)\n",
    "covMatrix = np.cov(X)\n",
    "print(varx, vary, covxy)\n",
    "print()\n",
    "print(covxy)\n",
    "#print(covMatrix)\n",
    "\n",
    "np.corrcoef(X)"
   ]
  },
  {
   "cell_type": "markdown",
   "metadata": {},
   "source": [
    "____________________________________________\n",
    "Let's fit the model yPredicted = b0 + b1*x"
   ]
  },
  {
   "cell_type": "code",
   "execution_count": 64,
   "metadata": {},
   "outputs": [
    {
     "name": "stdout",
     "output_type": "stream",
     "text": [
      "47.67487984596917 0.014816579012240287\n"
     ]
    }
   ],
   "source": [
    "b1 = covxy[1,0]/varx\n",
    "b0 = mu_ySim - b1*mu_x\n",
    "print(b0,b1)"
   ]
  },
  {
   "cell_type": "markdown",
   "metadata": {},
   "source": [
    "Let's calculate the std. errors and t-statistics for b0 and b1"
   ]
  },
  {
   "cell_type": "markdown",
   "metadata": {},
   "source": [
    "# "
   ]
  },
  {
   "cell_type": "code",
   "execution_count": 58,
   "metadata": {},
   "outputs": [
    {
     "name": "stdout",
     "output_type": "stream",
     "text": [
      "10.575352564162056\n",
      "0.0\n"
     ]
    }
   ],
   "source": [
    "yPredicted = b0 + b1*x\n",
    "residuals = ySimulated - yPredicted \n",
    "resSquares = residuals**2\n",
    "resSumSquares = resSquares.sum()\n",
    "resStdErr = np.sqrt(resSumSquares/(101-2))\n",
    "\n",
    "\n",
    "# additional variablues required in calculation\n",
    "mu_x_squared = mu_x**2\n",
    "sumSquaredDev_x = ((x - mu_x)**2).sum()\n",
    "# std. error of b0\n",
    "se_b0_squared = resStdErr**2*(1/101 + mu_x_squared/sumSquaredDev_x)\n",
    "se_b0 = np.sqrt(se_b0_squared)\n",
    "\n",
    "t = abs((b0 - 0)/se_b0)\n",
    "print(t)\n",
    "\n",
    "p = (1 - stats.t.cdf(t,df=101-2))* 2\n",
    "\n",
    "print(p)"
   ]
  },
  {
   "cell_type": "code",
   "execution_count": 59,
   "metadata": {},
   "outputs": [],
   "source": [
    "xt = np.linspace(-t-2,t+2,1001)\n",
    "tdist = stats.t.pdf(xt,df=99)"
   ]
  },
  {
   "cell_type": "code",
   "execution_count": 60,
   "metadata": {},
   "outputs": [
    {
     "data": {
      "text/plain": [
       "<matplotlib.lines.Line2D at 0x224dfa62b88>"
      ]
     },
     "execution_count": 60,
     "metadata": {},
     "output_type": "execute_result"
    },
    {
     "data": {
      "image/png": "[encoded data removed]",
      "text/plain": [
       "<Figure size 432x288 with 1 Axes>"
      ]
     },
     "metadata": {
      "needs_background": "light"
     },
     "output_type": "display_data"
    }
   ],
   "source": [
    "plt.plot(xt,tdist)\n",
    "plt.axvline(t,0,1,color='red')"
   ]
  },
  {
   "cell_type": "code",
   "execution_count": null,
   "metadata": {},
   "outputs": [],
   "source": []
  },
  {
   "cell_type": "code",
   "execution_count": null,
   "metadata": {},
   "outputs": [],
   "source": []
  }
 ],
 "metadata": {
  "kernelspec": {
   "display_name": "Python 3",
   "language": "python",
   "name": "python3"
  },
  "language_info": {
   "codemirror_mode": {
    "name": "ipython",
    "version": 3
   },
   "file_extension": ".py",
   "mimetype": "text/x-python",
   "name": "python",
   "nbconvert_exporter": "python",
   "pygments_lexer": "ipython3",
   "version": "3.7.4"
  }
 },
 "nbformat": 4,
 "nbformat_minor": 2
}
