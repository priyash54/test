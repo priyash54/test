{
 "cells": [
  {
   "cell_type": "code",
   "execution_count": 1,
   "metadata": {},
   "outputs": [],
   "source": [
    "import numpy as np \n",
    "import matplotlib.pyplot as plt\n",
    "import pandas as pd\n",
    "import scipy as sci\n",
    "\n",
    "%matplotlib inline"
   ]
  },
  {
   "cell_type": "markdown",
   "metadata": {},
   "source": [
    "Current directory"
   ]
  },
  {
   "cell_type": "code",
   "execution_count": 2,
   "metadata": {},
   "outputs": [
    {
     "data": {
      "text/plain": [
       "'E:\\\\Ireland\\\\Project\\\\FYProject\\\\test'"
      ]
     },
     "execution_count": 2,
     "metadata": {},
     "output_type": "execute_result"
    }
   ],
   "source": [
    "pwd"
   ]
  },
  {
   "cell_type": "markdown",
   "metadata": {},
   "source": [
    "Calling the csv file"
   ]
  },
  {
   "cell_type": "code",
   "execution_count": 3,
   "metadata": {
    "scrolled": true
   },
   "outputs": [],
   "source": [
    "data = pd.read_csv('history_data.csv')"
   ]
  },
  {
   "cell_type": "code",
   "execution_count": 4,
   "metadata": {},
   "outputs": [
    {
     "data": {
      "text/plain": [
       "Datetime                object\n",
       "Maximum Temperature    float64\n",
       "Minimum Temperature    float64\n",
       "Temperature            float64\n",
       "Wind Chill             float64\n",
       "Heat Index             float64\n",
       "Precipitation          float64\n",
       "Snow Depth             float64\n",
       "Wind Speed             float64\n",
       "Wind Gust              float64\n",
       "Cloud Cover            float64\n",
       "Relative Humidity      float64\n",
       "Conditions              object\n",
       "dtype: object"
      ]
     },
     "execution_count": 4,
     "metadata": {},
     "output_type": "execute_result"
    }
   ],
   "source": [
    "data.dtypes"
   ]
  },
  {
   "cell_type": "code",
   "execution_count": 5,
   "metadata": {},
   "outputs": [
    {
     "data": {
      "text/html": [
       "<div>\n",
       "<style scoped>\n",
       "    .dataframe tbody tr th:only-of-type {\n",
       "        vertical-align: middle;\n",
       "    }\n",
       "\n",
       "    .dataframe tbody tr th {\n",
       "        vertical-align: top;\n",
       "    }\n",
       "\n",
       "    .dataframe thead th {\n",
       "        text-align: right;\n",
       "    }\n",
       "</style>\n",
       "<table border=\"1\" class=\"dataframe\">\n",
       "  <thead>\n",
       "    <tr style=\"text-align: right;\">\n",
       "      <th></th>\n",
       "      <th>Datetime</th>\n",
       "      <th>Maximum Temperature</th>\n",
       "      <th>Minimum Temperature</th>\n",
       "      <th>Temperature</th>\n",
       "      <th>Wind Chill</th>\n",
       "      <th>Heat Index</th>\n",
       "      <th>Precipitation</th>\n",
       "      <th>Snow Depth</th>\n",
       "      <th>Wind Speed</th>\n",
       "      <th>Wind Gust</th>\n",
       "      <th>Cloud Cover</th>\n",
       "      <th>Relative Humidity</th>\n",
       "      <th>Conditions</th>\n",
       "    </tr>\n",
       "  </thead>\n",
       "  <tbody>\n",
       "    <tr>\n",
       "      <th>0</th>\n",
       "      <td>12/26/2019</td>\n",
       "      <td>53.7</td>\n",
       "      <td>44.7</td>\n",
       "      <td>49.4</td>\n",
       "      <td>37.5</td>\n",
       "      <td>NaN</td>\n",
       "      <td>NaN</td>\n",
       "      <td>NaN</td>\n",
       "      <td>31.3</td>\n",
       "      <td>NaN</td>\n",
       "      <td>86.3</td>\n",
       "      <td>96.44</td>\n",
       "      <td>Overcast</td>\n",
       "    </tr>\n",
       "    <tr>\n",
       "      <th>1</th>\n",
       "      <td>12/27/2019</td>\n",
       "      <td>51.9</td>\n",
       "      <td>48.3</td>\n",
       "      <td>50.3</td>\n",
       "      <td>42.2</td>\n",
       "      <td>NaN</td>\n",
       "      <td>NaN</td>\n",
       "      <td>NaN</td>\n",
       "      <td>18.3</td>\n",
       "      <td>NaN</td>\n",
       "      <td>90.8</td>\n",
       "      <td>98.65</td>\n",
       "      <td>Overcast</td>\n",
       "    </tr>\n",
       "    <tr>\n",
       "      <th>2</th>\n",
       "      <td>12/28/2019</td>\n",
       "      <td>50.1</td>\n",
       "      <td>48.3</td>\n",
       "      <td>48.9</td>\n",
       "      <td>41.4</td>\n",
       "      <td>NaN</td>\n",
       "      <td>NaN</td>\n",
       "      <td>NaN</td>\n",
       "      <td>20.8</td>\n",
       "      <td>NaN</td>\n",
       "      <td>90.0</td>\n",
       "      <td>94.07</td>\n",
       "      <td>Overcast</td>\n",
       "    </tr>\n",
       "    <tr>\n",
       "      <th>3</th>\n",
       "      <td>12/29/2019</td>\n",
       "      <td>50.1</td>\n",
       "      <td>46.5</td>\n",
       "      <td>48.4</td>\n",
       "      <td>40.2</td>\n",
       "      <td>NaN</td>\n",
       "      <td>NaN</td>\n",
       "      <td>NaN</td>\n",
       "      <td>19.7</td>\n",
       "      <td>NaN</td>\n",
       "      <td>90.8</td>\n",
       "      <td>97.29</td>\n",
       "      <td>Overcast</td>\n",
       "    </tr>\n",
       "    <tr>\n",
       "      <th>4</th>\n",
       "      <td>12/30/2019</td>\n",
       "      <td>50.1</td>\n",
       "      <td>46.5</td>\n",
       "      <td>48.4</td>\n",
       "      <td>39.6</td>\n",
       "      <td>NaN</td>\n",
       "      <td>NaN</td>\n",
       "      <td>NaN</td>\n",
       "      <td>17.2</td>\n",
       "      <td>NaN</td>\n",
       "      <td>91.3</td>\n",
       "      <td>97.83</td>\n",
       "      <td>Overcast</td>\n",
       "    </tr>\n",
       "  </tbody>\n",
       "</table>\n",
       "</div>"
      ],
      "text/plain": [
       "     Datetime  Maximum Temperature  Minimum Temperature  Temperature  \\\n",
       "0  12/26/2019                 53.7                 44.7         49.4   \n",
       "1  12/27/2019                 51.9                 48.3         50.3   \n",
       "2  12/28/2019                 50.1                 48.3         48.9   \n",
       "3  12/29/2019                 50.1                 46.5         48.4   \n",
       "4  12/30/2019                 50.1                 46.5         48.4   \n",
       "\n",
       "   Wind Chill  Heat Index  Precipitation  Snow Depth  Wind Speed  Wind Gust  \\\n",
       "0        37.5         NaN            NaN         NaN        31.3        NaN   \n",
       "1        42.2         NaN            NaN         NaN        18.3        NaN   \n",
       "2        41.4         NaN            NaN         NaN        20.8        NaN   \n",
       "3        40.2         NaN            NaN         NaN        19.7        NaN   \n",
       "4        39.6         NaN            NaN         NaN        17.2        NaN   \n",
       "\n",
       "   Cloud Cover  Relative Humidity Conditions  \n",
       "0         86.3              96.44   Overcast  \n",
       "1         90.8              98.65   Overcast  \n",
       "2         90.0              94.07   Overcast  \n",
       "3         90.8              97.29   Overcast  \n",
       "4         91.3              97.83   Overcast  "
      ]
     },
     "execution_count": 5,
     "metadata": {},
     "output_type": "execute_result"
    }
   ],
   "source": [
    "data.head()"
   ]
  },
  {
   "cell_type": "code",
   "execution_count": 6,
   "metadata": {},
   "outputs": [],
   "source": [
    "x = data[\"Wind Chill\"]\n",
    "y = data[\"Temperature\"]"
   ]
  },
  {
   "cell_type": "markdown",
   "metadata": {},
   "source": [
    "Scatter plot"
   ]
  },
  {
   "cell_type": "code",
   "execution_count": 7,
   "metadata": {},
   "outputs": [
    {
     "data": {
      "text/plain": [
       "Text(0, 0.5, 'Temperature')"
      ]
     },
     "execution_count": 7,
     "metadata": {},
     "output_type": "execute_result"
    },
    {
     "data": {
      "image/png": "[encoded data removed]",
      "text/plain": [
       "<Figure size 432x288 with 1 Axes>"
      ]
     },
     "metadata": {
      "needs_background": "light"
     },
     "output_type": "display_data"
    }
   ],
   "source": [
    "plt.scatter(x,y,c=\"r\",s=10, marker = '*')\n",
    "plt.xlabel('Wind Chill')\n",
    "plt.ylabel('Temperature')"
   ]
  },
  {
   "cell_type": "markdown",
   "metadata": {},
   "source": [
    "Function to generate coefficient values"
   ]
  },
  {
   "cell_type": "code",
   "execution_count": 8,
   "metadata": {},
   "outputs": [],
   "source": [
    "def coeficient(x,y):\n",
    "    \n",
    "    n = np.size(x)\n",
    "    mx,my = np.mean(x), np.mean(y)\n",
    "    \n",
    "    #sum of cross deviations of y and x\n",
    "    CDxy = np.sum(x*y) - n*mx*my\n",
    "    \n",
    "    #sum of sqaured deviations of x\n",
    "    CDxx = np.sum(x*x) - n*(mx*mx)\n",
    "    \n",
    "    #coefficient values\n",
    "    b1 = CDxy/CDxx\n",
    "    b0 = my - b1*mx\n",
    "    \n",
    "    return(b1,b0)"
   ]
  },
  {
   "cell_type": "markdown",
   "metadata": {},
   "source": [
    "Coefficient values"
   ]
  },
  {
   "cell_type": "code",
   "execution_count": 9,
   "metadata": {},
   "outputs": [
    {
     "data": {
      "text/plain": [
       "(0.584601894815119, 24.99479674951924)"
      ]
     },
     "execution_count": 9,
     "metadata": {},
     "output_type": "execute_result"
    }
   ],
   "source": [
    "b = coeficient(x,y)\n",
    "b"
   ]
  },
  {
   "cell_type": "code",
   "execution_count": 10,
   "metadata": {},
   "outputs": [],
   "source": [
    "def plot_results(x,y,b):\n",
    "    plt.scatter(x,y,c=\"r\",s=10, marker = '*')\n",
    "    #plt.xlabel(x)\n",
    "    #plt.ylabel(y)\n",
    "    \n",
    "    ypred = b[1] + b[0]*x\n",
    "    \n",
    "    plt.plot(x,ypred,c='b', linewidth =2)\n",
    "    plt.xlabel('Wind Chill')\n",
    "    plt.ylabel('Temperature')\n",
    "        \n",
    "    plt.show()"
   ]
  },
  {
   "cell_type": "markdown",
   "metadata": {},
   "source": [
    "Plotting the regression line with data points"
   ]
  },
  {
   "cell_type": "code",
   "execution_count": 11,
   "metadata": {},
   "outputs": [
    {
     "data": {
      "image/png": "[encoded data removed]",
      "text/plain": [
       "<Figure size 432x288 with 1 Axes>"
      ]
     },
     "metadata": {
      "needs_background": "light"
     },
     "output_type": "display_data"
    }
   ],
   "source": [
    "plot_results(x,y,b)"
   ]
  },
  {
   "cell_type": "markdown",
   "metadata": {},
   "source": [
    "# Using Seaborn library"
   ]
  },
  {
   "cell_type": "code",
   "execution_count": 12,
   "metadata": {},
   "outputs": [
    {
     "data": {
      "text/html": [
       "<div>\n",
       "<style scoped>\n",
       "    .dataframe tbody tr th:only-of-type {\n",
       "        vertical-align: middle;\n",
       "    }\n",
       "\n",
       "    .dataframe tbody tr th {\n",
       "        vertical-align: top;\n",
       "    }\n",
       "\n",
       "    .dataframe thead th {\n",
       "        text-align: right;\n",
       "    }\n",
       "</style>\n",
       "<table border=\"1\" class=\"dataframe\">\n",
       "  <thead>\n",
       "    <tr style=\"text-align: right;\">\n",
       "      <th></th>\n",
       "      <th>Datetime</th>\n",
       "      <th>Maximum Temperature</th>\n",
       "      <th>Minimum Temperature</th>\n",
       "      <th>Temperature</th>\n",
       "      <th>Wind Chill</th>\n",
       "      <th>Heat Index</th>\n",
       "      <th>Precipitation</th>\n",
       "      <th>Snow Depth</th>\n",
       "      <th>Wind Speed</th>\n",
       "      <th>Wind Gust</th>\n",
       "      <th>Cloud Cover</th>\n",
       "      <th>Relative Humidity</th>\n",
       "      <th>Conditions</th>\n",
       "    </tr>\n",
       "  </thead>\n",
       "  <tbody>\n",
       "    <tr>\n",
       "      <th>0</th>\n",
       "      <td>12/26/2019</td>\n",
       "      <td>53.7</td>\n",
       "      <td>44.7</td>\n",
       "      <td>49.4</td>\n",
       "      <td>37.5</td>\n",
       "      <td>NaN</td>\n",
       "      <td>NaN</td>\n",
       "      <td>NaN</td>\n",
       "      <td>31.3</td>\n",
       "      <td>NaN</td>\n",
       "      <td>86.3</td>\n",
       "      <td>96.44</td>\n",
       "      <td>Overcast</td>\n",
       "    </tr>\n",
       "    <tr>\n",
       "      <th>1</th>\n",
       "      <td>12/27/2019</td>\n",
       "      <td>51.9</td>\n",
       "      <td>48.3</td>\n",
       "      <td>50.3</td>\n",
       "      <td>42.2</td>\n",
       "      <td>NaN</td>\n",
       "      <td>NaN</td>\n",
       "      <td>NaN</td>\n",
       "      <td>18.3</td>\n",
       "      <td>NaN</td>\n",
       "      <td>90.8</td>\n",
       "      <td>98.65</td>\n",
       "      <td>Overcast</td>\n",
       "    </tr>\n",
       "    <tr>\n",
       "      <th>2</th>\n",
       "      <td>12/28/2019</td>\n",
       "      <td>50.1</td>\n",
       "      <td>48.3</td>\n",
       "      <td>48.9</td>\n",
       "      <td>41.4</td>\n",
       "      <td>NaN</td>\n",
       "      <td>NaN</td>\n",
       "      <td>NaN</td>\n",
       "      <td>20.8</td>\n",
       "      <td>NaN</td>\n",
       "      <td>90.0</td>\n",
       "      <td>94.07</td>\n",
       "      <td>Overcast</td>\n",
       "    </tr>\n",
       "    <tr>\n",
       "      <th>3</th>\n",
       "      <td>12/29/2019</td>\n",
       "      <td>50.1</td>\n",
       "      <td>46.5</td>\n",
       "      <td>48.4</td>\n",
       "      <td>40.2</td>\n",
       "      <td>NaN</td>\n",
       "      <td>NaN</td>\n",
       "      <td>NaN</td>\n",
       "      <td>19.7</td>\n",
       "      <td>NaN</td>\n",
       "      <td>90.8</td>\n",
       "      <td>97.29</td>\n",
       "      <td>Overcast</td>\n",
       "    </tr>\n",
       "    <tr>\n",
       "      <th>4</th>\n",
       "      <td>12/30/2019</td>\n",
       "      <td>50.1</td>\n",
       "      <td>46.5</td>\n",
       "      <td>48.4</td>\n",
       "      <td>39.6</td>\n",
       "      <td>NaN</td>\n",
       "      <td>NaN</td>\n",
       "      <td>NaN</td>\n",
       "      <td>17.2</td>\n",
       "      <td>NaN</td>\n",
       "      <td>91.3</td>\n",
       "      <td>97.83</td>\n",
       "      <td>Overcast</td>\n",
       "    </tr>\n",
       "  </tbody>\n",
       "</table>\n",
       "</div>"
      ],
      "text/plain": [
       "     Datetime  Maximum Temperature  Minimum Temperature  Temperature  \\\n",
       "0  12/26/2019                 53.7                 44.7         49.4   \n",
       "1  12/27/2019                 51.9                 48.3         50.3   \n",
       "2  12/28/2019                 50.1                 48.3         48.9   \n",
       "3  12/29/2019                 50.1                 46.5         48.4   \n",
       "4  12/30/2019                 50.1                 46.5         48.4   \n",
       "\n",
       "   Wind Chill  Heat Index  Precipitation  Snow Depth  Wind Speed  Wind Gust  \\\n",
       "0        37.5         NaN            NaN         NaN        31.3        NaN   \n",
       "1        42.2         NaN            NaN         NaN        18.3        NaN   \n",
       "2        41.4         NaN            NaN         NaN        20.8        NaN   \n",
       "3        40.2         NaN            NaN         NaN        19.7        NaN   \n",
       "4        39.6         NaN            NaN         NaN        17.2        NaN   \n",
       "\n",
       "   Cloud Cover  Relative Humidity Conditions  \n",
       "0         86.3              96.44   Overcast  \n",
       "1         90.8              98.65   Overcast  \n",
       "2         90.0              94.07   Overcast  \n",
       "3         90.8              97.29   Overcast  \n",
       "4         91.3              97.83   Overcast  "
      ]
     },
     "execution_count": 12,
     "metadata": {},
     "output_type": "execute_result"
    }
   ],
   "source": [
    "import seaborn as sns\n",
    "sns.set()\n",
    "data.head()"
   ]
  },
  {
   "cell_type": "code",
   "execution_count": 13,
   "metadata": {},
   "outputs": [
    {
     "data": {
      "text/plain": [
       "array([39.2, 41. , 42.8, 44.6, 46.3, 46.4, 48.1, 48.2, 48.3, 49.9, 50. ,\n",
       "       50.1, 51.7, 51.8, 51.9, 53.6, 53.7, 55.3, 57.2])"
      ]
     },
     "execution_count": 13,
     "metadata": {},
     "output_type": "execute_result"
    }
   ],
   "source": [
    "np.unique(data[\"Maximum Temperature\"])"
   ]
  },
  {
   "cell_type": "code",
   "execution_count": 14,
   "metadata": {},
   "outputs": [
    {
     "data": {
      "text/plain": [
       "<matplotlib.axes._subplots.AxesSubplot at 0x12a02427ec8>"
      ]
     },
     "execution_count": 14,
     "metadata": {},
     "output_type": "execute_result"
    },
    {
     "data": {
      "image/png": "[encoded data removed]",
      "text/plain": [
       "<Figure size 432x288 with 1 Axes>"
      ]
     },
     "metadata": {},
     "output_type": "display_data"
    }
   ],
   "source": [
    "data[\"Maximum Temperature\"].plot(kind=\"hist\")"
   ]
  },
  {
   "cell_type": "code",
   "execution_count": 15,
   "metadata": {},
   "outputs": [
    {
     "data": {
      "text/plain": [
       "<matplotlib.axes._subplots.AxesSubplot at 0x12a024a7448>"
      ]
     },
     "execution_count": 15,
     "metadata": {},
     "output_type": "execute_result"
    },
    {
     "data": {
      "image/png": "[encoded data removed]",
      "text/plain": [
       "<Figure size 432x288 with 1 Axes>"
      ]
     },
     "metadata": {},
     "output_type": "display_data"
    }
   ],
   "source": [
    "sns.distplot(data[\"Maximum Temperature\"])"
   ]
  },
  {
   "cell_type": "code",
   "execution_count": 16,
   "metadata": {},
   "outputs": [
    {
     "data": {
      "text/plain": [
       "<seaborn.axisgrid.PairGrid at 0x12a02557988>"
      ]
     },
     "execution_count": 16,
     "metadata": {},
     "output_type": "execute_result"
    },
    {
     "data": {
      "image/png": "[encoded data removed]",
      "text/plain": [
       "<Figure size 1440x1440 with 20 Axes>"
      ]
     },
     "metadata": {},
     "output_type": "display_data"
    }
   ],
   "source": [
    "df = data[[\"Wind Speed\",\"Temperature\",\"Cloud Cover\",\"Relative Humidity\"]]\n",
    "sns.pairplot(df,height=5)\n",
    "\n",
    "#scatterplot using seaborn\n",
    "#sns.scatterplot(x=\"Maximum Temperature\",y=\"Temperature\", data=df)"
   ]
  },
  {
   "cell_type": "code",
   "execution_count": 17,
   "metadata": {},
   "outputs": [
    {
     "data": {
      "text/plain": [
       "<seaborn.axisgrid.JointGrid at 0x12a02565ac8>"
      ]
     },
     "execution_count": 17,
     "metadata": {},
     "output_type": "execute_result"
    },
    {
     "data": {
      "image/png": "[encoded data removed]",
      "text/plain": [
       "<Figure size 432x432 with 3 Axes>"
      ]
     },
     "metadata": {},
     "output_type": "display_data"
    }
   ],
   "source": [
    "sns.jointplot(x=\"Wind Speed\",y=\"Temperature\",data=df)"
   ]
  },
  {
   "cell_type": "code",
   "execution_count": 18,
   "metadata": {},
   "outputs": [
    {
     "data": {
      "text/plain": [
       "<seaborn.axisgrid.FacetGrid at 0x12a03e77788>"
      ]
     },
     "execution_count": 18,
     "metadata": {},
     "output_type": "execute_result"
    },
    {
     "data": {
      "image/png": "[encoded data removed]",
      "text/plain": [
       "<Figure size 360x360 with 1 Axes>"
      ]
     },
     "metadata": {},
     "output_type": "display_data"
    }
   ],
   "source": [
    "sns.lmplot(x=\"Wind Speed\",y=\"Temperature\",data=df)"
   ]
  },
  {
   "cell_type": "code",
   "execution_count": 19,
   "metadata": {},
   "outputs": [
    {
     "data": {
      "text/plain": [
       "[Text(0, 0, '8.1'),\n",
       " Text(0, 0, '9.2'),\n",
       " Text(0, 0, '10.3'),\n",
       " Text(0, 0, '11.4'),\n",
       " Text(0, 0, '13.9'),\n",
       " Text(0, 0, '15.0'),\n",
       " Text(0, 0, '16.1'),\n",
       " Text(0, 0, '17.2'),\n",
       " Text(0, 0, '18.3'),\n",
       " Text(0, 0, '19.7'),\n",
       " Text(0, 0, '20.8'),\n",
       " Text(0, 0, '21.9'),\n",
       " Text(0, 0, '23.0'),\n",
       " Text(0, 0, '24.2'),\n",
       " Text(0, 0, '25.2'),\n",
       " Text(0, 0, '25.3'),\n",
       " Text(0, 0, '26.4'),\n",
       " Text(0, 0, '27.7'),\n",
       " Text(0, 0, '28.9'),\n",
       " Text(0, 0, '30.0'),\n",
       " Text(0, 0, '31.1'),\n",
       " Text(0, 0, '31.3'),\n",
       " Text(0, 0, '32.2'),\n",
       " Text(0, 0, '33.3'),\n",
       " Text(0, 0, '34.4'),\n",
       " Text(0, 0, '35.8'),\n",
       " Text(0, 0, '38.0'),\n",
       " Text(0, 0, '40.3')]"
      ]
     },
     "execution_count": 19,
     "metadata": {},
     "output_type": "execute_result"
    },
    {
     "data": {
      "image/png": "[encoded data removed]",
      "text/plain": [
       "<Figure size 720x360 with 1 Axes>"
      ]
     },
     "metadata": {},
     "output_type": "display_data"
    }
   ],
   "source": [
    "sns.set(rc={'figure.figsize':(10,5)})\n",
    "ax=sns.boxplot(x='Wind Speed',y='Temperature', data=df)\n",
    "ax.set_xticklabels(ax.get_xticklabels(),rotation=45)\n",
    "\n",
    "# ax=sns.swarmplot(x='Maximum Temperature',y='Temperature',data=df)\n",
    "#ax=sns.countplot(x='Mfr Name', data=df)\n",
    "#ax=sns.countplot(x='Mfr Name', data=df)\n",
    "# ax.set_xticklabels(ax.get_xticklabels(),rotation=45)\n",
    "# df2 = df.pivot_table(index='Cylinders', columns='Eng Displ', values='CombMPG', aggfunc='mean')\n",
    "# sns.heatmap(df2)"
   ]
  },
  {
   "cell_type": "markdown",
   "metadata": {},
   "source": [
    "# Multi-regression model"
   ]
  },
  {
   "cell_type": "code",
   "execution_count": 37,
   "metadata": {},
   "outputs": [
    {
     "data": {
      "text/html": [
       "<div>\n",
       "<style scoped>\n",
       "    .dataframe tbody tr th:only-of-type {\n",
       "        vertical-align: middle;\n",
       "    }\n",
       "\n",
       "    .dataframe tbody tr th {\n",
       "        vertical-align: top;\n",
       "    }\n",
       "\n",
       "    .dataframe thead th {\n",
       "        text-align: right;\n",
       "    }\n",
       "</style>\n",
       "<table border=\"1\" class=\"dataframe\">\n",
       "  <thead>\n",
       "    <tr style=\"text-align: right;\">\n",
       "      <th></th>\n",
       "      <th>Datetime</th>\n",
       "      <th>Maximum Temperature</th>\n",
       "      <th>Minimum Temperature</th>\n",
       "      <th>Temperature</th>\n",
       "      <th>Wind Chill</th>\n",
       "      <th>Heat Index</th>\n",
       "      <th>Precipitation</th>\n",
       "      <th>Snow Depth</th>\n",
       "      <th>Wind Speed</th>\n",
       "      <th>Wind Gust</th>\n",
       "      <th>Cloud Cover</th>\n",
       "      <th>Relative Humidity</th>\n",
       "      <th>Conditions</th>\n",
       "    </tr>\n",
       "  </thead>\n",
       "  <tbody>\n",
       "    <tr>\n",
       "      <th>0</th>\n",
       "      <td>12/26/2019</td>\n",
       "      <td>53.7</td>\n",
       "      <td>44.7</td>\n",
       "      <td>49.4</td>\n",
       "      <td>37.5</td>\n",
       "      <td>NaN</td>\n",
       "      <td>NaN</td>\n",
       "      <td>NaN</td>\n",
       "      <td>31.3</td>\n",
       "      <td>NaN</td>\n",
       "      <td>86.3</td>\n",
       "      <td>96.44</td>\n",
       "      <td>Overcast</td>\n",
       "    </tr>\n",
       "    <tr>\n",
       "      <th>1</th>\n",
       "      <td>12/27/2019</td>\n",
       "      <td>51.9</td>\n",
       "      <td>48.3</td>\n",
       "      <td>50.3</td>\n",
       "      <td>42.2</td>\n",
       "      <td>NaN</td>\n",
       "      <td>NaN</td>\n",
       "      <td>NaN</td>\n",
       "      <td>18.3</td>\n",
       "      <td>NaN</td>\n",
       "      <td>90.8</td>\n",
       "      <td>98.65</td>\n",
       "      <td>Overcast</td>\n",
       "    </tr>\n",
       "    <tr>\n",
       "      <th>2</th>\n",
       "      <td>12/28/2019</td>\n",
       "      <td>50.1</td>\n",
       "      <td>48.3</td>\n",
       "      <td>48.9</td>\n",
       "      <td>41.4</td>\n",
       "      <td>NaN</td>\n",
       "      <td>NaN</td>\n",
       "      <td>NaN</td>\n",
       "      <td>20.8</td>\n",
       "      <td>NaN</td>\n",
       "      <td>90.0</td>\n",
       "      <td>94.07</td>\n",
       "      <td>Overcast</td>\n",
       "    </tr>\n",
       "    <tr>\n",
       "      <th>3</th>\n",
       "      <td>12/29/2019</td>\n",
       "      <td>50.1</td>\n",
       "      <td>46.5</td>\n",
       "      <td>48.4</td>\n",
       "      <td>40.2</td>\n",
       "      <td>NaN</td>\n",
       "      <td>NaN</td>\n",
       "      <td>NaN</td>\n",
       "      <td>19.7</td>\n",
       "      <td>NaN</td>\n",
       "      <td>90.8</td>\n",
       "      <td>97.29</td>\n",
       "      <td>Overcast</td>\n",
       "    </tr>\n",
       "    <tr>\n",
       "      <th>4</th>\n",
       "      <td>12/30/2019</td>\n",
       "      <td>50.1</td>\n",
       "      <td>46.5</td>\n",
       "      <td>48.4</td>\n",
       "      <td>39.6</td>\n",
       "      <td>NaN</td>\n",
       "      <td>NaN</td>\n",
       "      <td>NaN</td>\n",
       "      <td>17.2</td>\n",
       "      <td>NaN</td>\n",
       "      <td>91.3</td>\n",
       "      <td>97.83</td>\n",
       "      <td>Overcast</td>\n",
       "    </tr>\n",
       "  </tbody>\n",
       "</table>\n",
       "</div>"
      ],
      "text/plain": [
       "     Datetime  Maximum Temperature  Minimum Temperature  Temperature  \\\n",
       "0  12/26/2019                 53.7                 44.7         49.4   \n",
       "1  12/27/2019                 51.9                 48.3         50.3   \n",
       "2  12/28/2019                 50.1                 48.3         48.9   \n",
       "3  12/29/2019                 50.1                 46.5         48.4   \n",
       "4  12/30/2019                 50.1                 46.5         48.4   \n",
       "\n",
       "   Wind Chill  Heat Index  Precipitation  Snow Depth  Wind Speed  Wind Gust  \\\n",
       "0        37.5         NaN            NaN         NaN        31.3        NaN   \n",
       "1        42.2         NaN            NaN         NaN        18.3        NaN   \n",
       "2        41.4         NaN            NaN         NaN        20.8        NaN   \n",
       "3        40.2         NaN            NaN         NaN        19.7        NaN   \n",
       "4        39.6         NaN            NaN         NaN        17.2        NaN   \n",
       "\n",
       "   Cloud Cover  Relative Humidity Conditions  \n",
       "0         86.3              96.44   Overcast  \n",
       "1         90.8              98.65   Overcast  \n",
       "2         90.0              94.07   Overcast  \n",
       "3         90.8              97.29   Overcast  \n",
       "4         91.3              97.83   Overcast  "
      ]
     },
     "execution_count": 37,
     "metadata": {},
     "output_type": "execute_result"
    }
   ],
   "source": [
    "data.head()"
   ]
  },
  {
   "cell_type": "code",
   "execution_count": 75,
   "metadata": {},
   "outputs": [
    {
     "data": {
      "text/html": [
       "<table class=\"simpletable\">\n",
       "<caption>OLS Regression Results</caption>\n",
       "<tr>\n",
       "  <th>Dep. Variable:</th>       <td>Temperature</td>   <th>  R-squared:         </th> <td>   0.829</td>\n",
       "</tr>\n",
       "<tr>\n",
       "  <th>Model:</th>                   <td>OLS</td>       <th>  Adj. R-squared:    </th> <td>   0.823</td>\n",
       "</tr>\n",
       "<tr>\n",
       "  <th>Method:</th>             <td>Least Squares</td>  <th>  F-statistic:       </th> <td>   154.6</td>\n",
       "</tr>\n",
       "<tr>\n",
       "  <th>Date:</th>             <td>Wed, 03 Jun 2020</td> <th>  Prob (F-statistic):</th> <td>1.25e-36</td>\n",
       "</tr>\n",
       "<tr>\n",
       "  <th>Time:</th>                 <td>10:52:33</td>     <th>  Log-Likelihood:    </th> <td> -186.30</td>\n",
       "</tr>\n",
       "<tr>\n",
       "  <th>No. Observations:</th>      <td>   100</td>      <th>  AIC:               </th> <td>   380.6</td>\n",
       "</tr>\n",
       "<tr>\n",
       "  <th>Df Residuals:</th>          <td>    96</td>      <th>  BIC:               </th> <td>   391.0</td>\n",
       "</tr>\n",
       "<tr>\n",
       "  <th>Df Model:</th>              <td>     3</td>      <th>                     </th>     <td> </td>   \n",
       "</tr>\n",
       "<tr>\n",
       "  <th>Covariance Type:</th>      <td>nonrobust</td>    <th>                     </th>     <td> </td>   \n",
       "</tr>\n",
       "</table>\n",
       "<table class=\"simpletable\">\n",
       "<tr>\n",
       "       <td></td>          <th>coef</th>     <th>std err</th>      <th>t</th>      <th>P>|t|</th>  <th>[0.025</th>    <th>0.975]</th>  \n",
       "</tr>\n",
       "<tr>\n",
       "  <th>const</th>       <td>   21.0211</td> <td>    1.147</td> <td>   18.332</td> <td> 0.000</td> <td>   18.745</td> <td>   23.297</td>\n",
       "</tr>\n",
       "<tr>\n",
       "  <th>Wind Chill</th>  <td>    0.5809</td> <td>    0.041</td> <td>   14.162</td> <td> 0.000</td> <td>    0.500</td> <td>    0.662</td>\n",
       "</tr>\n",
       "<tr>\n",
       "  <th>Wind Speed</th>  <td>    0.1384</td> <td>    0.022</td> <td>    6.339</td> <td> 0.000</td> <td>    0.095</td> <td>    0.182</td>\n",
       "</tr>\n",
       "<tr>\n",
       "  <th>Cloud Cover</th> <td>    0.0165</td> <td>    0.013</td> <td>    1.224</td> <td> 0.224</td> <td>   -0.010</td> <td>    0.043</td>\n",
       "</tr>\n",
       "</table>\n",
       "<table class=\"simpletable\">\n",
       "<tr>\n",
       "  <th>Omnibus:</th>       <td>11.803</td> <th>  Durbin-Watson:     </th> <td>   1.511</td>\n",
       "</tr>\n",
       "<tr>\n",
       "  <th>Prob(Omnibus):</th> <td> 0.003</td> <th>  Jarque-Bera (JB):  </th> <td>  12.341</td>\n",
       "</tr>\n",
       "<tr>\n",
       "  <th>Skew:</th>          <td> 0.756</td> <th>  Prob(JB):          </th> <td> 0.00209</td>\n",
       "</tr>\n",
       "<tr>\n",
       "  <th>Kurtosis:</th>      <td> 3.821</td> <th>  Cond. No.          </th> <td>    516.</td>\n",
       "</tr>\n",
       "</table><br/><br/>Warnings:<br/>[1] Standard Errors assume that the covariance matrix of the errors is correctly specified."
      ],
      "text/plain": [
       "<class 'statsmodels.iolib.summary.Summary'>\n",
       "\"\"\"\n",
       "                            OLS Regression Results                            \n",
       "==============================================================================\n",
       "Dep. Variable:            Temperature   R-squared:                       0.829\n",
       "Model:                            OLS   Adj. R-squared:                  0.823\n",
       "Method:                 Least Squares   F-statistic:                     154.6\n",
       "Date:                Wed, 03 Jun 2020   Prob (F-statistic):           1.25e-36\n",
       "Time:                        10:52:33   Log-Likelihood:                -186.30\n",
       "No. Observations:                 100   AIC:                             380.6\n",
       "Df Residuals:                      96   BIC:                             391.0\n",
       "Df Model:                           3                                         \n",
       "Covariance Type:            nonrobust                                         \n",
       "===============================================================================\n",
       "                  coef    std err          t      P>|t|      [0.025      0.975]\n",
       "-------------------------------------------------------------------------------\n",
       "const          21.0211      1.147     18.332      0.000      18.745      23.297\n",
       "Wind Chill      0.5809      0.041     14.162      0.000       0.500       0.662\n",
       "Wind Speed      0.1384      0.022      6.339      0.000       0.095       0.182\n",
       "Cloud Cover     0.0165      0.013      1.224      0.224      -0.010       0.043\n",
       "==============================================================================\n",
       "Omnibus:                       11.803   Durbin-Watson:                   1.511\n",
       "Prob(Omnibus):                  0.003   Jarque-Bera (JB):               12.341\n",
       "Skew:                           0.756   Prob(JB):                      0.00209\n",
       "Kurtosis:                       3.821   Cond. No.                         516.\n",
       "==============================================================================\n",
       "\n",
       "Warnings:\n",
       "[1] Standard Errors assume that the covariance matrix of the errors is correctly specified.\n",
       "\"\"\""
      ]
     },
     "execution_count": 75,
     "metadata": {},
     "output_type": "execute_result"
    }
   ],
   "source": [
    "y = data[\"Temperature\"]\n",
    "x = data[[\"Wind Chill\",\"Wind Speed\",\"Cloud Cover\"]]\n",
    "X = sm.add_constant(x)\n",
    "\n",
    "import statsmodels.api as sm\n",
    "mod = sm.OLS(y,X).fit()\n",
    "\n",
    "mod.summary()\n"
   ]
  },
  {
   "cell_type": "code",
   "execution_count": 76,
   "metadata": {},
   "outputs": [
    {
     "data": {
      "text/plain": [
       "const          21.021059\n",
       "Wind Chill      0.580935\n",
       "Wind Speed      0.138449\n",
       "Cloud Cover     0.016491\n",
       "dtype: float64"
      ]
     },
     "execution_count": 76,
     "metadata": {},
     "output_type": "execute_result"
    }
   ],
   "source": [
    "mod.params"
   ]
  },
  {
   "cell_type": "code",
   "execution_count": 81,
   "metadata": {},
   "outputs": [
    {
     "data": {
      "text/plain": [
       "0     48.562728\n",
       "1     49.567489\n",
       "2     49.435672\n",
       "3     48.599448\n",
       "4     47.913009\n",
       "        ...    \n",
       "95    37.974329\n",
       "96    42.361029\n",
       "97    45.026702\n",
       "98    45.434075\n",
       "99    46.257891\n",
       "Length: 100, dtype: float64"
      ]
     },
     "execution_count": 81,
     "metadata": {},
     "output_type": "execute_result"
    }
   ],
   "source": [
    "a=mod.params[0]\n",
    "b=mod.params[1]\n",
    "c=mod.params[2]\n",
    "d=mod.params[3]\n",
    "y= a + b*data[\"Wind Chill\"] + c*data[\"Wind Speed\"] + d*data[\"Cloud Cover\"]\n",
    "y"
   ]
  },
  {
   "cell_type": "code",
   "execution_count": null,
   "metadata": {},
   "outputs": [],
   "source": []
  },
  {
   "cell_type": "code",
   "execution_count": null,
   "metadata": {},
   "outputs": [],
   "source": []
  },
  {
   "cell_type": "markdown",
   "metadata": {},
   "source": [
    "# Using curve fit"
   ]
  },
  {
   "cell_type": "markdown",
   "metadata": {},
   "source": [
    "model creation and coefficient calculation"
   ]
  },
  {
   "cell_type": "code",
   "execution_count": 20,
   "metadata": {},
   "outputs": [],
   "source": [
    "import scipy as sci\n",
    "from scipy import optimize\n",
    "\n",
    "def model(x,m,b):\n",
    "    return m + x*b\n",
    "\n",
    "initialval = [1,1]\n",
    "fit = sci.optimize.curve_fit(model,data[\"Temperature\"], data[\"Wind Chill\"],p0 =initialval)"
   ]
  },
  {
   "cell_type": "code",
   "execution_count": 21,
   "metadata": {},
   "outputs": [
    {
     "data": {
      "text/plain": [
       "(array([-23.22254045,   1.26176509]),\n",
       " array([[ 1.10271120e+01, -2.51486562e-01],\n",
       "        [-2.51486562e-01,  5.77837787e-03]]))"
      ]
     },
     "execution_count": 21,
     "metadata": {},
     "output_type": "execute_result"
    }
   ],
   "source": [
    "fit"
   ]
  },
  {
   "cell_type": "code",
   "execution_count": 22,
   "metadata": {},
   "outputs": [],
   "source": [
    "ans,cov = fit"
   ]
  },
  {
   "cell_type": "code",
   "execution_count": 23,
   "metadata": {},
   "outputs": [
    {
     "data": {
      "text/plain": [
       "array([-23.22254045,   1.26176509])"
      ]
     },
     "execution_count": 23,
     "metadata": {},
     "output_type": "execute_result"
    }
   ],
   "source": [
    "ans"
   ]
  },
  {
   "cell_type": "code",
   "execution_count": 24,
   "metadata": {},
   "outputs": [
    {
     "data": {
      "text/plain": [
       "array([[ 1.10271120e+01, -2.51486562e-01],\n",
       "       [-2.51486562e-01,  5.77837787e-03]])"
      ]
     },
     "execution_count": 24,
     "metadata": {},
     "output_type": "execute_result"
    }
   ],
   "source": [
    "cov"
   ]
  },
  {
   "cell_type": "code",
   "execution_count": 25,
   "metadata": {},
   "outputs": [
    {
     "data": {
      "text/plain": [
       "Text(0, 0.5, 'Temperature')"
      ]
     },
     "execution_count": 25,
     "metadata": {},
     "output_type": "execute_result"
    },
    {
     "data": {
      "image/png": "[encoded data removed]",
      "text/plain": [
       "<Figure size 720x360 with 1 Axes>"
      ]
     },
     "metadata": {},
     "output_type": "display_data"
    }
   ],
   "source": [
    "plt.errorbar(data[\"Temperature\"], data[\"Wind Chill\"], fmt = 'b.', label = \"linear relation\")\n",
    "\n",
    "t = np.linspace(35,53)\n",
    "plt.plot(t,model(t,ans[0],ans[1]), label = \"regression line\")\n",
    "\n",
    "plt.xlabel(\"Wind Chill\")\n",
    "plt.ylabel(\"Temperature\")"
   ]
  },
  {
   "cell_type": "markdown",
   "metadata": {},
   "source": [
    "# LR using Stats package"
   ]
  },
  {
   "cell_type": "code",
   "execution_count": 26,
   "metadata": {},
   "outputs": [],
   "source": [
    "from scipy import stats\n",
    "slope,intercept,rvalue,pvalue,stderr = stats.linregress(data[\"Maximum Temperature\"],data[\"Temperature\"])"
   ]
  },
  {
   "cell_type": "code",
   "execution_count": 27,
   "metadata": {},
   "outputs": [
    {
     "name": "stderr",
     "output_type": "stream",
     "text": [
      "C:\\Users\\priya\\Anaconda3\\lib\\site-packages\\seaborn\\relational.py:818: MatplotlibDeprecationWarning: Saw kwargs ['c', 'color'] which are all aliases for 'color'.  Kept value from 'color'.  Passing multiple aliases for the same property will raise a TypeError in 3.3.\n",
      "  line, = ax.plot([], [], **kws)\n",
      "C:\\Users\\priya\\Anaconda3\\lib\\site-packages\\seaborn\\relational.py:829: MatplotlibDeprecationWarning: Saw kwargs ['c', 'color'] which are all aliases for 'color'.  Kept value from 'color'.  Passing multiple aliases for the same property will raise a TypeError in 3.3.\n",
      "  line, = ax.plot(x, y, **kws)\n"
     ]
    },
    {
     "data": {
      "text/plain": [
       "<matplotlib.axes._subplots.AxesSubplot at 0x12a0560d548>"
      ]
     },
     "execution_count": 27,
     "metadata": {},
     "output_type": "execute_result"
    },
    {
     "data": {
      "image/png": "[encoded data removed]",
      "text/plain": [
       "<Figure size 720x360 with 1 Axes>"
      ]
     },
     "metadata": {},
     "output_type": "display_data"
    }
   ],
   "source": [
    "def predict(x):\n",
    "    return slope*x + intercept\n",
    "\n",
    "sns.scatterplot(data[\"Maximum Temperature\"],data[\"Temperature\"])\n",
    "sns.lineplot(data[\"Maximum Temperature\"], predict(data[\"Maximum Temperature\"]),c='r')"
   ]
  },
  {
   "cell_type": "code",
   "execution_count": 28,
   "metadata": {},
   "outputs": [
    {
     "name": "stderr",
     "output_type": "stream",
     "text": [
      "C:\\Users\\priya\\Anaconda3\\lib\\site-packages\\seaborn\\relational.py:818: MatplotlibDeprecationWarning: Saw kwargs ['c', 'color'] which are all aliases for 'color'.  Kept value from 'color'.  Passing multiple aliases for the same property will raise a TypeError in 3.3.\n",
      "  line, = ax.plot([], [], **kws)\n",
      "C:\\Users\\priya\\Anaconda3\\lib\\site-packages\\seaborn\\relational.py:829: MatplotlibDeprecationWarning: Saw kwargs ['c', 'color'] which are all aliases for 'color'.  Kept value from 'color'.  Passing multiple aliases for the same property will raise a TypeError in 3.3.\n",
      "  line, = ax.plot(x, y, **kws)\n"
     ]
    },
    {
     "data": {
      "text/plain": [
       "<matplotlib.axes._subplots.AxesSubplot at 0x12a0560d388>"
      ]
     },
     "execution_count": 28,
     "metadata": {},
     "output_type": "execute_result"
    },
    {
     "data": {
      "image/png": "[encoded data removed]",
      "text/plain": [
       "<Figure size 720x360 with 1 Axes>"
      ]
     },
     "metadata": {},
     "output_type": "display_data"
    }
   ],
   "source": [
    "sns.scatterplot(data[\"Relative Humidity\"],data[\"Temperature\"])\n",
    "fit = np.polyfit(data[\"Relative Humidity\"],data[\"Temperature\"],3)\n",
    "\n",
    "xp = np.linspace(50,100,50)\n",
    "yp = np.poly1d(fit)        #it is a convienient way of getting the predicted value\n",
    "#https://numpy.org/doc/stable/reference/generated/numpy.poly1d.html\n",
    "sns.lineplot(xp,yp(xp),c='r')"
   ]
  },
  {
   "cell_type": "code",
   "execution_count": 29,
   "metadata": {},
   "outputs": [
    {
     "data": {
      "text/plain": [
       "poly1d([ 6.50540939e-04, -1.43293801e-01,  1.04186474e+01, -2.07660143e+02])"
      ]
     },
     "execution_count": 29,
     "metadata": {},
     "output_type": "execute_result"
    }
   ],
   "source": [
    "yp"
   ]
  },
  {
   "cell_type": "markdown",
   "metadata": {},
   "source": [
    "# AHU data"
   ]
  },
  {
   "cell_type": "code",
   "execution_count": 30,
   "metadata": {},
   "outputs": [],
   "source": [
    "dat = pd.read_csv('all_in_one_finish_20130219_noblanks.csv')"
   ]
  },
  {
   "cell_type": "code",
   "execution_count": 31,
   "metadata": {},
   "outputs": [
    {
     "data": {
      "text/html": [
       "<div>\n",
       "<style scoped>\n",
       "    .dataframe tbody tr th:only-of-type {\n",
       "        vertical-align: middle;\n",
       "    }\n",
       "\n",
       "    .dataframe tbody tr th {\n",
       "        vertical-align: top;\n",
       "    }\n",
       "\n",
       "    .dataframe thead th {\n",
       "        text-align: right;\n",
       "    }\n",
       "</style>\n",
       "<table border=\"1\" class=\"dataframe\">\n",
       "  <thead>\n",
       "    <tr style=\"text-align: right;\">\n",
       "      <th></th>\n",
       "      <th>Date / Time</th>\n",
       "      <th>AHU9 CHW Offcoil Temperature (1 minute)</th>\n",
       "      <th>AHU9 CHW Valve Position (1 minute)</th>\n",
       "      <th>AHU9 Fresh Air Damper Position (1 minute)</th>\n",
       "      <th>AHU9 Frost Coil Valve Position (1 minute)</th>\n",
       "      <th>AHU9 Frost Offcoil Temperature (1 minute)</th>\n",
       "      <th>AHU9 Humidity Control Output (1 minute)</th>\n",
       "      <th>AHU9 Reheat Coil Valve Positio (1 minute)</th>\n",
       "      <th>AHU9 Reheat Offcoil Temperatur (1 minute)</th>\n",
       "      <th>AHU9 Return Air Humidity (1 minute)</th>\n",
       "      <th>...</th>\n",
       "      <th>Post Heating Coil Humidity (1 minute)</th>\n",
       "      <th>Post Cooling Coil Humidity (1 minute)</th>\n",
       "      <th>Post Reheat Coil Humidity (1 minute)</th>\n",
       "      <th>Supply Air Velocity (1 minute)</th>\n",
       "      <th>Chilled Water Comm Flo Temp (1 minute)</th>\n",
       "      <th>Chilled Water Comm Rtn Temp (1 minute)</th>\n",
       "      <th>Boilers Com Flow Temp (1 minute)</th>\n",
       "      <th>Boiler Com Rtn Temp (1 minute)</th>\n",
       "      <th>Post Return Fan Temperture (1 minute)</th>\n",
       "      <th>Post Supply Fan Temperture (1 minute)</th>\n",
       "    </tr>\n",
       "  </thead>\n",
       "  <tbody>\n",
       "    <tr>\n",
       "      <th>0</th>\n",
       "      <td>12/09/2012 00:00</td>\n",
       "      <td>15.7112</td>\n",
       "      <td>0.0</td>\n",
       "      <td>0.0</td>\n",
       "      <td>0.0</td>\n",
       "      <td>15.3903</td>\n",
       "      <td>0.0</td>\n",
       "      <td>0.0</td>\n",
       "      <td>15.3880</td>\n",
       "      <td>76.0336</td>\n",
       "      <td>...</td>\n",
       "      <td>62.45</td>\n",
       "      <td>62.98</td>\n",
       "      <td>71.91</td>\n",
       "      <td>0.0</td>\n",
       "      <td>11.291</td>\n",
       "      <td>11.484</td>\n",
       "      <td>37.742001</td>\n",
       "      <td>35.883999</td>\n",
       "      <td>13.71</td>\n",
       "      <td>13.70</td>\n",
       "    </tr>\n",
       "    <tr>\n",
       "      <th>1</th>\n",
       "      <td>12/09/2012 00:01</td>\n",
       "      <td>15.7112</td>\n",
       "      <td>0.0</td>\n",
       "      <td>0.0</td>\n",
       "      <td>0.0</td>\n",
       "      <td>15.3090</td>\n",
       "      <td>0.0</td>\n",
       "      <td>0.0</td>\n",
       "      <td>15.3085</td>\n",
       "      <td>76.0336</td>\n",
       "      <td>...</td>\n",
       "      <td>62.36</td>\n",
       "      <td>63.13</td>\n",
       "      <td>71.40</td>\n",
       "      <td>0.0</td>\n",
       "      <td>11.291</td>\n",
       "      <td>11.501</td>\n",
       "      <td>37.733002</td>\n",
       "      <td>35.874001</td>\n",
       "      <td>13.70</td>\n",
       "      <td>13.69</td>\n",
       "    </tr>\n",
       "  </tbody>\n",
       "</table>\n",
       "<p>2 rows × 31 columns</p>\n",
       "</div>"
      ],
      "text/plain": [
       "        Date / Time  AHU9 CHW Offcoil Temperature (1 minute)  \\\n",
       "0  12/09/2012 00:00                                  15.7112   \n",
       "1  12/09/2012 00:01                                  15.7112   \n",
       "\n",
       "   AHU9 CHW Valve Position (1 minute)  \\\n",
       "0                                 0.0   \n",
       "1                                 0.0   \n",
       "\n",
       "   AHU9 Fresh Air Damper Position (1 minute)  \\\n",
       "0                                        0.0   \n",
       "1                                        0.0   \n",
       "\n",
       "   AHU9 Frost Coil Valve Position (1 minute)  \\\n",
       "0                                        0.0   \n",
       "1                                        0.0   \n",
       "\n",
       "   AHU9 Frost Offcoil Temperature (1 minute)  \\\n",
       "0                                    15.3903   \n",
       "1                                    15.3090   \n",
       "\n",
       "   AHU9 Humidity Control Output (1 minute)  \\\n",
       "0                                      0.0   \n",
       "1                                      0.0   \n",
       "\n",
       "   AHU9 Reheat Coil Valve Positio (1 minute)  \\\n",
       "0                                        0.0   \n",
       "1                                        0.0   \n",
       "\n",
       "   AHU9 Reheat Offcoil Temperatur (1 minute)  \\\n",
       "0                                    15.3880   \n",
       "1                                    15.3085   \n",
       "\n",
       "   AHU9 Return Air Humidity (1 minute)  ...  \\\n",
       "0                              76.0336  ...   \n",
       "1                              76.0336  ...   \n",
       "\n",
       "   Post Heating Coil Humidity (1 minute)  \\\n",
       "0                                  62.45   \n",
       "1                                  62.36   \n",
       "\n",
       "   Post Cooling Coil Humidity (1 minute)  \\\n",
       "0                                  62.98   \n",
       "1                                  63.13   \n",
       "\n",
       "   Post Reheat Coil Humidity (1 minute)  Supply Air Velocity (1 minute)  \\\n",
       "0                                 71.91                             0.0   \n",
       "1                                 71.40                             0.0   \n",
       "\n",
       "   Chilled Water Comm Flo Temp (1 minute)  \\\n",
       "0                                  11.291   \n",
       "1                                  11.291   \n",
       "\n",
       "   Chilled Water Comm Rtn Temp (1 minute)  Boilers Com Flow Temp (1 minute)  \\\n",
       "0                                  11.484                         37.742001   \n",
       "1                                  11.501                         37.733002   \n",
       "\n",
       "   Boiler Com Rtn Temp (1 minute)  Post Return Fan Temperture (1 minute)  \\\n",
       "0                       35.883999                                  13.71   \n",
       "1                       35.874001                                  13.70   \n",
       "\n",
       "   Post Supply Fan Temperture (1 minute)  \n",
       "0                                  13.70  \n",
       "1                                  13.69  \n",
       "\n",
       "[2 rows x 31 columns]"
      ]
     },
     "execution_count": 31,
     "metadata": {},
     "output_type": "execute_result"
    }
   ],
   "source": [
    "dat.head(2)\n",
    "#dat.tail(5)"
   ]
  },
  {
   "cell_type": "code",
   "execution_count": 32,
   "metadata": {},
   "outputs": [
    {
     "data": {
      "text/plain": [
       "(Index(['Date / Time', 'AHU9 CHW Offcoil Temperature (1 minute)',\n",
       "        'AHU9 CHW Valve Position (1 minute)',\n",
       "        'AHU9 Fresh Air Damper Position (1 minute)',\n",
       "        'AHU9 Frost Coil Valve Position (1 minute)',\n",
       "        'AHU9 Frost Offcoil Temperature (1 minute)',\n",
       "        'AHU9 Humidity Control Output (1 minute)',\n",
       "        'AHU9 Reheat Coil Valve Positio (1 minute)',\n",
       "        'AHU9 Reheat Offcoil Temperatur (1 minute)',\n",
       "        'AHU9 Return Air Humidity (1 minute)',\n",
       "        'AHU9 Return Air Temperature (1 minute)',\n",
       "        'AHU9 Space Air Hum Setpoint (1 minute)',\n",
       "        'AHU9 Space Air Temp Setpoint (1 minute)',\n",
       "        'AHU9 Supply Air Humidity (1 minute)',\n",
       "        'AHU9 Supply Air Temperature (1 minute)',\n",
       "        'Outside Air Temperature (1 minute)',\n",
       "        'AHU09 Return CO2 Transmitter (1 minute)',\n",
       "        'Outside Air Humidity (1 minute)', 'Extract Air Velocity (1 minute)',\n",
       "        'Mixed Air Temperture (1 minute)', 'Mixed Air Humidity (1 minute)',\n",
       "        'Post Heating Coil Humidity (1 minute)',\n",
       "        'Post Cooling Coil Humidity (1 minute)',\n",
       "        'Post Reheat Coil Humidity (1 minute)',\n",
       "        'Supply Air Velocity (1 minute)',\n",
       "        'Chilled Water Comm Flo Temp (1 minute)',\n",
       "        'Chilled Water Comm Rtn Temp (1 minute)',\n",
       "        'Boilers Com Flow Temp (1 minute)', 'Boiler Com Rtn Temp (1 minute)',\n",
       "        'Post Return Fan Temperture (1 minute)',\n",
       "        'Post Supply Fan Temperture (1 minute)'],\n",
       "       dtype='object'),\n",
       " (183991, 31))"
      ]
     },
     "execution_count": 32,
     "metadata": {},
     "output_type": "execute_result"
    }
   ],
   "source": [
    "dat.columns, dat.shape\n",
    "#dat[['Date / Time','AHU9 CHW Offcoil Temperature (1 minute)','AHU9 CHW Valve Position (1 minute)']][:5]\n",
    "#len(dat)"
   ]
  },
  {
   "cell_type": "code",
   "execution_count": 33,
   "metadata": {},
   "outputs": [
    {
     "data": {
      "text/html": [
       "<div>\n",
       "<style scoped>\n",
       "    .dataframe tbody tr th:only-of-type {\n",
       "        vertical-align: middle;\n",
       "    }\n",
       "\n",
       "    .dataframe tbody tr th {\n",
       "        vertical-align: top;\n",
       "    }\n",
       "\n",
       "    .dataframe thead th {\n",
       "        text-align: right;\n",
       "    }\n",
       "</style>\n",
       "<table border=\"1\" class=\"dataframe\">\n",
       "  <thead>\n",
       "    <tr style=\"text-align: right;\">\n",
       "      <th></th>\n",
       "      <th>Date / Time</th>\n",
       "      <th>AHU9 CHW Offcoil Temperature (1 minute)</th>\n",
       "      <th>AHU9 CHW Valve Position (1 minute)</th>\n",
       "      <th>AHU9 Fresh Air Damper Position (1 minute)</th>\n",
       "      <th>AHU9 Frost Coil Valve Position (1 minute)</th>\n",
       "      <th>AHU9 Frost Offcoil Temperature (1 minute)</th>\n",
       "      <th>AHU9 Humidity Control Output (1 minute)</th>\n",
       "      <th>AHU9 Reheat Coil Valve Positio (1 minute)</th>\n",
       "      <th>AHU9 Reheat Offcoil Temperatur (1 minute)</th>\n",
       "      <th>AHU9 Return Air Humidity (1 minute)</th>\n",
       "      <th>...</th>\n",
       "      <th>Post Heating Coil Humidity (1 minute)</th>\n",
       "      <th>Post Cooling Coil Humidity (1 minute)</th>\n",
       "      <th>Post Reheat Coil Humidity (1 minute)</th>\n",
       "      <th>Supply Air Velocity (1 minute)</th>\n",
       "      <th>Chilled Water Comm Flo Temp (1 minute)</th>\n",
       "      <th>Chilled Water Comm Rtn Temp (1 minute)</th>\n",
       "      <th>Boilers Com Flow Temp (1 minute)</th>\n",
       "      <th>Boiler Com Rtn Temp (1 minute)</th>\n",
       "      <th>Post Return Fan Temperture (1 minute)</th>\n",
       "      <th>Post Supply Fan Temperture (1 minute)</th>\n",
       "    </tr>\n",
       "  </thead>\n",
       "  <tbody>\n",
       "    <tr>\n",
       "      <th>157907</th>\n",
       "      <td>01/02/2013 00:00</td>\n",
       "      <td>17.854500</td>\n",
       "      <td>0.0</td>\n",
       "      <td>0.0</td>\n",
       "      <td>0.0</td>\n",
       "      <td>17.774500</td>\n",
       "      <td>0.0</td>\n",
       "      <td>0.0</td>\n",
       "      <td>17.41820</td>\n",
       "      <td>86.141396</td>\n",
       "      <td>...</td>\n",
       "      <td>48.62</td>\n",
       "      <td>49.76</td>\n",
       "      <td>61.98</td>\n",
       "      <td>0.0</td>\n",
       "      <td>10.232</td>\n",
       "      <td>10.320</td>\n",
       "      <td>67.584000</td>\n",
       "      <td>64.276001</td>\n",
       "      <td>9.90</td>\n",
       "      <td>9.37</td>\n",
       "    </tr>\n",
       "    <tr>\n",
       "      <th>157908</th>\n",
       "      <td>01/02/2013 00:01</td>\n",
       "      <td>17.854500</td>\n",
       "      <td>0.0</td>\n",
       "      <td>0.0</td>\n",
       "      <td>0.0</td>\n",
       "      <td>17.680000</td>\n",
       "      <td>0.0</td>\n",
       "      <td>0.0</td>\n",
       "      <td>17.28760</td>\n",
       "      <td>86.563599</td>\n",
       "      <td>...</td>\n",
       "      <td>48.70</td>\n",
       "      <td>49.89</td>\n",
       "      <td>61.86</td>\n",
       "      <td>0.0</td>\n",
       "      <td>10.232</td>\n",
       "      <td>10.320</td>\n",
       "      <td>67.584000</td>\n",
       "      <td>64.276001</td>\n",
       "      <td>9.89</td>\n",
       "      <td>9.37</td>\n",
       "    </tr>\n",
       "    <tr>\n",
       "      <th>157909</th>\n",
       "      <td>01/02/2013 00:02</td>\n",
       "      <td>17.854500</td>\n",
       "      <td>0.0</td>\n",
       "      <td>0.0</td>\n",
       "      <td>0.0</td>\n",
       "      <td>17.680000</td>\n",
       "      <td>0.0</td>\n",
       "      <td>0.0</td>\n",
       "      <td>17.28760</td>\n",
       "      <td>86.563599</td>\n",
       "      <td>...</td>\n",
       "      <td>48.75</td>\n",
       "      <td>49.91</td>\n",
       "      <td>61.96</td>\n",
       "      <td>0.0</td>\n",
       "      <td>10.232</td>\n",
       "      <td>10.320</td>\n",
       "      <td>67.584000</td>\n",
       "      <td>64.103996</td>\n",
       "      <td>9.90</td>\n",
       "      <td>9.37</td>\n",
       "    </tr>\n",
       "    <tr>\n",
       "      <th>157910</th>\n",
       "      <td>01/02/2013 00:03</td>\n",
       "      <td>17.854500</td>\n",
       "      <td>0.0</td>\n",
       "      <td>0.0</td>\n",
       "      <td>0.0</td>\n",
       "      <td>17.680000</td>\n",
       "      <td>0.0</td>\n",
       "      <td>0.0</td>\n",
       "      <td>17.15700</td>\n",
       "      <td>86.563599</td>\n",
       "      <td>...</td>\n",
       "      <td>48.88</td>\n",
       "      <td>50.02</td>\n",
       "      <td>62.35</td>\n",
       "      <td>0.0</td>\n",
       "      <td>10.224</td>\n",
       "      <td>10.320</td>\n",
       "      <td>67.584000</td>\n",
       "      <td>64.084999</td>\n",
       "      <td>9.90</td>\n",
       "      <td>9.37</td>\n",
       "    </tr>\n",
       "    <tr>\n",
       "      <th>157911</th>\n",
       "      <td>01/02/2013 00:04</td>\n",
       "      <td>17.759201</td>\n",
       "      <td>0.0</td>\n",
       "      <td>0.0</td>\n",
       "      <td>0.0</td>\n",
       "      <td>17.585499</td>\n",
       "      <td>0.0</td>\n",
       "      <td>0.0</td>\n",
       "      <td>17.15700</td>\n",
       "      <td>86.563599</td>\n",
       "      <td>...</td>\n",
       "      <td>48.96</td>\n",
       "      <td>50.14</td>\n",
       "      <td>62.46</td>\n",
       "      <td>0.0</td>\n",
       "      <td>10.232</td>\n",
       "      <td>10.320</td>\n",
       "      <td>67.449997</td>\n",
       "      <td>64.103996</td>\n",
       "      <td>9.89</td>\n",
       "      <td>9.26</td>\n",
       "    </tr>\n",
       "    <tr>\n",
       "      <th>...</th>\n",
       "      <td>...</td>\n",
       "      <td>...</td>\n",
       "      <td>...</td>\n",
       "      <td>...</td>\n",
       "      <td>...</td>\n",
       "      <td>...</td>\n",
       "      <td>...</td>\n",
       "      <td>...</td>\n",
       "      <td>...</td>\n",
       "      <td>...</td>\n",
       "      <td>...</td>\n",
       "      <td>...</td>\n",
       "      <td>...</td>\n",
       "      <td>...</td>\n",
       "      <td>...</td>\n",
       "      <td>...</td>\n",
       "      <td>...</td>\n",
       "      <td>...</td>\n",
       "      <td>...</td>\n",
       "      <td>...</td>\n",
       "      <td>...</td>\n",
       "    </tr>\n",
       "    <tr>\n",
       "      <th>51181</th>\n",
       "      <td>31/10/2012 19:56</td>\n",
       "      <td>8.556800</td>\n",
       "      <td>0.0</td>\n",
       "      <td>0.0</td>\n",
       "      <td>0.0</td>\n",
       "      <td>8.560190</td>\n",
       "      <td>0.0</td>\n",
       "      <td>0.0</td>\n",
       "      <td>7.89296</td>\n",
       "      <td>85.915596</td>\n",
       "      <td>...</td>\n",
       "      <td>90.34</td>\n",
       "      <td>88.16</td>\n",
       "      <td>89.31</td>\n",
       "      <td>0.0</td>\n",
       "      <td>5.772</td>\n",
       "      <td>5.868</td>\n",
       "      <td>37.242001</td>\n",
       "      <td>36.539001</td>\n",
       "      <td>9.62</td>\n",
       "      <td>8.36</td>\n",
       "    </tr>\n",
       "    <tr>\n",
       "      <th>51182</th>\n",
       "      <td>31/10/2012 19:57</td>\n",
       "      <td>8.556800</td>\n",
       "      <td>0.0</td>\n",
       "      <td>0.0</td>\n",
       "      <td>0.0</td>\n",
       "      <td>8.560190</td>\n",
       "      <td>0.0</td>\n",
       "      <td>0.0</td>\n",
       "      <td>7.89296</td>\n",
       "      <td>86.085396</td>\n",
       "      <td>...</td>\n",
       "      <td>90.34</td>\n",
       "      <td>88.28</td>\n",
       "      <td>89.35</td>\n",
       "      <td>0.0</td>\n",
       "      <td>5.829</td>\n",
       "      <td>5.954</td>\n",
       "      <td>37.049000</td>\n",
       "      <td>36.327000</td>\n",
       "      <td>9.59</td>\n",
       "      <td>8.36</td>\n",
       "    </tr>\n",
       "    <tr>\n",
       "      <th>51183</th>\n",
       "      <td>31/10/2012 19:58</td>\n",
       "      <td>8.556800</td>\n",
       "      <td>0.0</td>\n",
       "      <td>0.0</td>\n",
       "      <td>0.0</td>\n",
       "      <td>8.560190</td>\n",
       "      <td>0.0</td>\n",
       "      <td>0.0</td>\n",
       "      <td>7.89296</td>\n",
       "      <td>86.170296</td>\n",
       "      <td>...</td>\n",
       "      <td>90.32</td>\n",
       "      <td>88.16</td>\n",
       "      <td>89.31</td>\n",
       "      <td>0.0</td>\n",
       "      <td>5.858</td>\n",
       "      <td>5.964</td>\n",
       "      <td>36.875999</td>\n",
       "      <td>36.067001</td>\n",
       "      <td>9.52</td>\n",
       "      <td>8.35</td>\n",
       "    </tr>\n",
       "    <tr>\n",
       "      <th>51184</th>\n",
       "      <td>31/10/2012 19:59</td>\n",
       "      <td>8.556800</td>\n",
       "      <td>0.0</td>\n",
       "      <td>0.0</td>\n",
       "      <td>0.0</td>\n",
       "      <td>8.560190</td>\n",
       "      <td>0.0</td>\n",
       "      <td>0.0</td>\n",
       "      <td>7.89296</td>\n",
       "      <td>86.085396</td>\n",
       "      <td>...</td>\n",
       "      <td>90.31</td>\n",
       "      <td>88.16</td>\n",
       "      <td>89.36</td>\n",
       "      <td>0.0</td>\n",
       "      <td>5.868</td>\n",
       "      <td>5.983</td>\n",
       "      <td>36.759998</td>\n",
       "      <td>35.681999</td>\n",
       "      <td>9.51</td>\n",
       "      <td>8.36</td>\n",
       "    </tr>\n",
       "    <tr>\n",
       "      <th>51185</th>\n",
       "      <td>31/10/2012 20:00</td>\n",
       "      <td>8.556800</td>\n",
       "      <td>0.0</td>\n",
       "      <td>0.0</td>\n",
       "      <td>0.0</td>\n",
       "      <td>8.560190</td>\n",
       "      <td>0.0</td>\n",
       "      <td>0.0</td>\n",
       "      <td>7.89296</td>\n",
       "      <td>86.170296</td>\n",
       "      <td>...</td>\n",
       "      <td>90.32</td>\n",
       "      <td>88.16</td>\n",
       "      <td>89.41</td>\n",
       "      <td>0.0</td>\n",
       "      <td>5.954</td>\n",
       "      <td>6.060</td>\n",
       "      <td>36.653999</td>\n",
       "      <td>35.488998</td>\n",
       "      <td>9.51</td>\n",
       "      <td>8.35</td>\n",
       "    </tr>\n",
       "  </tbody>\n",
       "</table>\n",
       "<p>183991 rows × 31 columns</p>\n",
       "</div>"
      ],
      "text/plain": [
       "             Date / Time  AHU9 CHW Offcoil Temperature (1 minute)  \\\n",
       "157907  01/02/2013 00:00                                17.854500   \n",
       "157908  01/02/2013 00:01                                17.854500   \n",
       "157909  01/02/2013 00:02                                17.854500   \n",
       "157910  01/02/2013 00:03                                17.854500   \n",
       "157911  01/02/2013 00:04                                17.759201   \n",
       "...                  ...                                      ...   \n",
       "51181   31/10/2012 19:56                                 8.556800   \n",
       "51182   31/10/2012 19:57                                 8.556800   \n",
       "51183   31/10/2012 19:58                                 8.556800   \n",
       "51184   31/10/2012 19:59                                 8.556800   \n",
       "51185   31/10/2012 20:00                                 8.556800   \n",
       "\n",
       "        AHU9 CHW Valve Position (1 minute)  \\\n",
       "157907                                 0.0   \n",
       "157908                                 0.0   \n",
       "157909                                 0.0   \n",
       "157910                                 0.0   \n",
       "157911                                 0.0   \n",
       "...                                    ...   \n",
       "51181                                  0.0   \n",
       "51182                                  0.0   \n",
       "51183                                  0.0   \n",
       "51184                                  0.0   \n",
       "51185                                  0.0   \n",
       "\n",
       "        AHU9 Fresh Air Damper Position (1 minute)  \\\n",
       "157907                                        0.0   \n",
       "157908                                        0.0   \n",
       "157909                                        0.0   \n",
       "157910                                        0.0   \n",
       "157911                                        0.0   \n",
       "...                                           ...   \n",
       "51181                                         0.0   \n",
       "51182                                         0.0   \n",
       "51183                                         0.0   \n",
       "51184                                         0.0   \n",
       "51185                                         0.0   \n",
       "\n",
       "        AHU9 Frost Coil Valve Position (1 minute)  \\\n",
       "157907                                        0.0   \n",
       "157908                                        0.0   \n",
       "157909                                        0.0   \n",
       "157910                                        0.0   \n",
       "157911                                        0.0   \n",
       "...                                           ...   \n",
       "51181                                         0.0   \n",
       "51182                                         0.0   \n",
       "51183                                         0.0   \n",
       "51184                                         0.0   \n",
       "51185                                         0.0   \n",
       "\n",
       "        AHU9 Frost Offcoil Temperature (1 minute)  \\\n",
       "157907                                  17.774500   \n",
       "157908                                  17.680000   \n",
       "157909                                  17.680000   \n",
       "157910                                  17.680000   \n",
       "157911                                  17.585499   \n",
       "...                                           ...   \n",
       "51181                                    8.560190   \n",
       "51182                                    8.560190   \n",
       "51183                                    8.560190   \n",
       "51184                                    8.560190   \n",
       "51185                                    8.560190   \n",
       "\n",
       "        AHU9 Humidity Control Output (1 minute)  \\\n",
       "157907                                      0.0   \n",
       "157908                                      0.0   \n",
       "157909                                      0.0   \n",
       "157910                                      0.0   \n",
       "157911                                      0.0   \n",
       "...                                         ...   \n",
       "51181                                       0.0   \n",
       "51182                                       0.0   \n",
       "51183                                       0.0   \n",
       "51184                                       0.0   \n",
       "51185                                       0.0   \n",
       "\n",
       "        AHU9 Reheat Coil Valve Positio (1 minute)  \\\n",
       "157907                                        0.0   \n",
       "157908                                        0.0   \n",
       "157909                                        0.0   \n",
       "157910                                        0.0   \n",
       "157911                                        0.0   \n",
       "...                                           ...   \n",
       "51181                                         0.0   \n",
       "51182                                         0.0   \n",
       "51183                                         0.0   \n",
       "51184                                         0.0   \n",
       "51185                                         0.0   \n",
       "\n",
       "        AHU9 Reheat Offcoil Temperatur (1 minute)  \\\n",
       "157907                                   17.41820   \n",
       "157908                                   17.28760   \n",
       "157909                                   17.28760   \n",
       "157910                                   17.15700   \n",
       "157911                                   17.15700   \n",
       "...                                           ...   \n",
       "51181                                     7.89296   \n",
       "51182                                     7.89296   \n",
       "51183                                     7.89296   \n",
       "51184                                     7.89296   \n",
       "51185                                     7.89296   \n",
       "\n",
       "        AHU9 Return Air Humidity (1 minute)  ...  \\\n",
       "157907                            86.141396  ...   \n",
       "157908                            86.563599  ...   \n",
       "157909                            86.563599  ...   \n",
       "157910                            86.563599  ...   \n",
       "157911                            86.563599  ...   \n",
       "...                                     ...  ...   \n",
       "51181                             85.915596  ...   \n",
       "51182                             86.085396  ...   \n",
       "51183                             86.170296  ...   \n",
       "51184                             86.085396  ...   \n",
       "51185                             86.170296  ...   \n",
       "\n",
       "        Post Heating Coil Humidity (1 minute)  \\\n",
       "157907                                  48.62   \n",
       "157908                                  48.70   \n",
       "157909                                  48.75   \n",
       "157910                                  48.88   \n",
       "157911                                  48.96   \n",
       "...                                       ...   \n",
       "51181                                   90.34   \n",
       "51182                                   90.34   \n",
       "51183                                   90.32   \n",
       "51184                                   90.31   \n",
       "51185                                   90.32   \n",
       "\n",
       "        Post Cooling Coil Humidity (1 minute)  \\\n",
       "157907                                  49.76   \n",
       "157908                                  49.89   \n",
       "157909                                  49.91   \n",
       "157910                                  50.02   \n",
       "157911                                  50.14   \n",
       "...                                       ...   \n",
       "51181                                   88.16   \n",
       "51182                                   88.28   \n",
       "51183                                   88.16   \n",
       "51184                                   88.16   \n",
       "51185                                   88.16   \n",
       "\n",
       "        Post Reheat Coil Humidity (1 minute)  Supply Air Velocity (1 minute)  \\\n",
       "157907                                 61.98                             0.0   \n",
       "157908                                 61.86                             0.0   \n",
       "157909                                 61.96                             0.0   \n",
       "157910                                 62.35                             0.0   \n",
       "157911                                 62.46                             0.0   \n",
       "...                                      ...                             ...   \n",
       "51181                                  89.31                             0.0   \n",
       "51182                                  89.35                             0.0   \n",
       "51183                                  89.31                             0.0   \n",
       "51184                                  89.36                             0.0   \n",
       "51185                                  89.41                             0.0   \n",
       "\n",
       "        Chilled Water Comm Flo Temp (1 minute)  \\\n",
       "157907                                  10.232   \n",
       "157908                                  10.232   \n",
       "157909                                  10.232   \n",
       "157910                                  10.224   \n",
       "157911                                  10.232   \n",
       "...                                        ...   \n",
       "51181                                    5.772   \n",
       "51182                                    5.829   \n",
       "51183                                    5.858   \n",
       "51184                                    5.868   \n",
       "51185                                    5.954   \n",
       "\n",
       "        Chilled Water Comm Rtn Temp (1 minute)  \\\n",
       "157907                                  10.320   \n",
       "157908                                  10.320   \n",
       "157909                                  10.320   \n",
       "157910                                  10.320   \n",
       "157911                                  10.320   \n",
       "...                                        ...   \n",
       "51181                                    5.868   \n",
       "51182                                    5.954   \n",
       "51183                                    5.964   \n",
       "51184                                    5.983   \n",
       "51185                                    6.060   \n",
       "\n",
       "        Boilers Com Flow Temp (1 minute)  Boiler Com Rtn Temp (1 minute)  \\\n",
       "157907                         67.584000                       64.276001   \n",
       "157908                         67.584000                       64.276001   \n",
       "157909                         67.584000                       64.103996   \n",
       "157910                         67.584000                       64.084999   \n",
       "157911                         67.449997                       64.103996   \n",
       "...                                  ...                             ...   \n",
       "51181                          37.242001                       36.539001   \n",
       "51182                          37.049000                       36.327000   \n",
       "51183                          36.875999                       36.067001   \n",
       "51184                          36.759998                       35.681999   \n",
       "51185                          36.653999                       35.488998   \n",
       "\n",
       "        Post Return Fan Temperture (1 minute)  \\\n",
       "157907                                   9.90   \n",
       "157908                                   9.89   \n",
       "157909                                   9.90   \n",
       "157910                                   9.90   \n",
       "157911                                   9.89   \n",
       "...                                       ...   \n",
       "51181                                    9.62   \n",
       "51182                                    9.59   \n",
       "51183                                    9.52   \n",
       "51184                                    9.51   \n",
       "51185                                    9.51   \n",
       "\n",
       "        Post Supply Fan Temperture (1 minute)  \n",
       "157907                                   9.37  \n",
       "157908                                   9.37  \n",
       "157909                                   9.37  \n",
       "157910                                   9.37  \n",
       "157911                                   9.26  \n",
       "...                                       ...  \n",
       "51181                                    8.36  \n",
       "51182                                    8.36  \n",
       "51183                                    8.35  \n",
       "51184                                    8.36  \n",
       "51185                                    8.35  \n",
       "\n",
       "[183991 rows x 31 columns]"
      ]
     },
     "execution_count": 33,
     "metadata": {},
     "output_type": "execute_result"
    }
   ],
   "source": [
    "dat.sort_values(['Date / Time'])"
   ]
  },
  {
   "cell_type": "code",
   "execution_count": 34,
   "metadata": {
    "scrolled": false
   },
   "outputs": [
    {
     "data": {
      "text/html": [
       "<div>\n",
       "<style scoped>\n",
       "    .dataframe tbody tr th:only-of-type {\n",
       "        vertical-align: middle;\n",
       "    }\n",
       "\n",
       "    .dataframe tbody tr th {\n",
       "        vertical-align: top;\n",
       "    }\n",
       "\n",
       "    .dataframe thead th {\n",
       "        text-align: right;\n",
       "    }\n",
       "</style>\n",
       "<table border=\"1\" class=\"dataframe\">\n",
       "  <thead>\n",
       "    <tr style=\"text-align: right;\">\n",
       "      <th></th>\n",
       "      <th>AHU9 CHW Offcoil Temperature (1 minute)</th>\n",
       "      <th>AHU9 CHW Valve Position (1 minute)</th>\n",
       "      <th>AHU9 Fresh Air Damper Position (1 minute)</th>\n",
       "      <th>AHU9 Frost Coil Valve Position (1 minute)</th>\n",
       "      <th>AHU9 Frost Offcoil Temperature (1 minute)</th>\n",
       "      <th>AHU9 Humidity Control Output (1 minute)</th>\n",
       "      <th>AHU9 Reheat Coil Valve Positio (1 minute)</th>\n",
       "      <th>AHU9 Reheat Offcoil Temperatur (1 minute)</th>\n",
       "      <th>AHU9 Return Air Humidity (1 minute)</th>\n",
       "      <th>AHU9 Return Air Temperature (1 minute)</th>\n",
       "      <th>...</th>\n",
       "      <th>Post Heating Coil Humidity (1 minute)</th>\n",
       "      <th>Post Cooling Coil Humidity (1 minute)</th>\n",
       "      <th>Post Reheat Coil Humidity (1 minute)</th>\n",
       "      <th>Supply Air Velocity (1 minute)</th>\n",
       "      <th>Chilled Water Comm Flo Temp (1 minute)</th>\n",
       "      <th>Chilled Water Comm Rtn Temp (1 minute)</th>\n",
       "      <th>Boilers Com Flow Temp (1 minute)</th>\n",
       "      <th>Boiler Com Rtn Temp (1 minute)</th>\n",
       "      <th>Post Return Fan Temperture (1 minute)</th>\n",
       "      <th>Post Supply Fan Temperture (1 minute)</th>\n",
       "    </tr>\n",
       "  </thead>\n",
       "  <tbody>\n",
       "    <tr>\n",
       "      <th>count</th>\n",
       "      <td>183991.000000</td>\n",
       "      <td>183991.000000</td>\n",
       "      <td>183991.000000</td>\n",
       "      <td>183991.000000</td>\n",
       "      <td>183991.000000</td>\n",
       "      <td>183991.000000</td>\n",
       "      <td>183991.000000</td>\n",
       "      <td>183991.000000</td>\n",
       "      <td>183991.000000</td>\n",
       "      <td>183991.000000</td>\n",
       "      <td>...</td>\n",
       "      <td>183991.000000</td>\n",
       "      <td>183991.000000</td>\n",
       "      <td>183991.000000</td>\n",
       "      <td>183991.000000</td>\n",
       "      <td>183991.00000</td>\n",
       "      <td>183991.000000</td>\n",
       "      <td>183991.000000</td>\n",
       "      <td>183991.000000</td>\n",
       "      <td>183991.000000</td>\n",
       "      <td>183991.000000</td>\n",
       "    </tr>\n",
       "    <tr>\n",
       "      <th>mean</th>\n",
       "      <td>17.552355</td>\n",
       "      <td>1.261905</td>\n",
       "      <td>10.024924</td>\n",
       "      <td>0.970922</td>\n",
       "      <td>18.721040</td>\n",
       "      <td>3.419359</td>\n",
       "      <td>2.847819</td>\n",
       "      <td>18.284871</td>\n",
       "      <td>73.676607</td>\n",
       "      <td>12.587029</td>\n",
       "      <td>...</td>\n",
       "      <td>54.357003</td>\n",
       "      <td>54.488885</td>\n",
       "      <td>60.526760</td>\n",
       "      <td>0.335995</td>\n",
       "      <td>9.48776</td>\n",
       "      <td>9.822103</td>\n",
       "      <td>63.026734</td>\n",
       "      <td>59.342712</td>\n",
       "      <td>13.801799</td>\n",
       "      <td>13.819292</td>\n",
       "    </tr>\n",
       "    <tr>\n",
       "      <th>std</th>\n",
       "      <td>3.622785</td>\n",
       "      <td>10.716082</td>\n",
       "      <td>19.144843</td>\n",
       "      <td>3.171134</td>\n",
       "      <td>4.121909</td>\n",
       "      <td>11.638333</td>\n",
       "      <td>10.413402</td>\n",
       "      <td>4.478354</td>\n",
       "      <td>13.181021</td>\n",
       "      <td>5.146174</td>\n",
       "      <td>...</td>\n",
       "      <td>7.889272</td>\n",
       "      <td>8.273928</td>\n",
       "      <td>9.141178</td>\n",
       "      <td>0.563279</td>\n",
       "      <td>2.25472</td>\n",
       "      <td>2.222389</td>\n",
       "      <td>10.610351</td>\n",
       "      <td>10.240399</td>\n",
       "      <td>5.272638</td>\n",
       "      <td>5.277837</td>\n",
       "    </tr>\n",
       "    <tr>\n",
       "      <th>min</th>\n",
       "      <td>4.310960</td>\n",
       "      <td>0.000000</td>\n",
       "      <td>0.000000</td>\n",
       "      <td>0.000000</td>\n",
       "      <td>4.062540</td>\n",
       "      <td>0.000000</td>\n",
       "      <td>0.000000</td>\n",
       "      <td>3.690580</td>\n",
       "      <td>40.250000</td>\n",
       "      <td>2.014000</td>\n",
       "      <td>...</td>\n",
       "      <td>30.140000</td>\n",
       "      <td>22.940000</td>\n",
       "      <td>15.890000</td>\n",
       "      <td>0.000000</td>\n",
       "      <td>0.39600</td>\n",
       "      <td>0.588000</td>\n",
       "      <td>10.862000</td>\n",
       "      <td>7.874000</td>\n",
       "      <td>3.150000</td>\n",
       "      <td>3.640000</td>\n",
       "    </tr>\n",
       "    <tr>\n",
       "      <th>25%</th>\n",
       "      <td>15.462800</td>\n",
       "      <td>0.000000</td>\n",
       "      <td>0.000000</td>\n",
       "      <td>0.000000</td>\n",
       "      <td>16.725601</td>\n",
       "      <td>0.000000</td>\n",
       "      <td>0.000000</td>\n",
       "      <td>16.020000</td>\n",
       "      <td>58.577198</td>\n",
       "      <td>8.269490</td>\n",
       "      <td>...</td>\n",
       "      <td>48.620000</td>\n",
       "      <td>49.090000</td>\n",
       "      <td>53.700000</td>\n",
       "      <td>0.000000</td>\n",
       "      <td>9.19900</td>\n",
       "      <td>9.765000</td>\n",
       "      <td>63.320000</td>\n",
       "      <td>59.655998</td>\n",
       "      <td>9.400000</td>\n",
       "      <td>9.640000</td>\n",
       "    </tr>\n",
       "    <tr>\n",
       "      <th>50%</th>\n",
       "      <td>18.516399</td>\n",
       "      <td>0.000000</td>\n",
       "      <td>0.000000</td>\n",
       "      <td>0.000000</td>\n",
       "      <td>19.818899</td>\n",
       "      <td>0.000000</td>\n",
       "      <td>0.000000</td>\n",
       "      <td>19.369001</td>\n",
       "      <td>77.677597</td>\n",
       "      <td>11.344190</td>\n",
       "      <td>...</td>\n",
       "      <td>51.910000</td>\n",
       "      <td>51.910000</td>\n",
       "      <td>60.220000</td>\n",
       "      <td>0.000000</td>\n",
       "      <td>10.04000</td>\n",
       "      <td>10.390000</td>\n",
       "      <td>67.011002</td>\n",
       "      <td>62.727001</td>\n",
       "      <td>13.060000</td>\n",
       "      <td>12.690000</td>\n",
       "    </tr>\n",
       "    <tr>\n",
       "      <th>75%</th>\n",
       "      <td>20.162500</td>\n",
       "      <td>0.000000</td>\n",
       "      <td>19.954111</td>\n",
       "      <td>0.000000</td>\n",
       "      <td>21.180000</td>\n",
       "      <td>0.000000</td>\n",
       "      <td>0.000000</td>\n",
       "      <td>20.909201</td>\n",
       "      <td>85.537201</td>\n",
       "      <td>18.839556</td>\n",
       "      <td>...</td>\n",
       "      <td>59.040000</td>\n",
       "      <td>59.050000</td>\n",
       "      <td>66.810000</td>\n",
       "      <td>1.220000</td>\n",
       "      <td>10.67900</td>\n",
       "      <td>10.862000</td>\n",
       "      <td>68.750999</td>\n",
       "      <td>64.849998</td>\n",
       "      <td>19.700000</td>\n",
       "      <td>19.300000</td>\n",
       "    </tr>\n",
       "    <tr>\n",
       "      <th>max</th>\n",
       "      <td>27.312601</td>\n",
       "      <td>100.000000</td>\n",
       "      <td>100.000000</td>\n",
       "      <td>99.989998</td>\n",
       "      <td>28.398001</td>\n",
       "      <td>100.000000</td>\n",
       "      <td>100.000000</td>\n",
       "      <td>52.909000</td>\n",
       "      <td>92.604698</td>\n",
       "      <td>29.067020</td>\n",
       "      <td>...</td>\n",
       "      <td>93.900000</td>\n",
       "      <td>92.740000</td>\n",
       "      <td>95.270000</td>\n",
       "      <td>1.390000</td>\n",
       "      <td>14.84400</td>\n",
       "      <td>15.842000</td>\n",
       "      <td>82.116997</td>\n",
       "      <td>77.528999</td>\n",
       "      <td>27.490000</td>\n",
       "      <td>48.890000</td>\n",
       "    </tr>\n",
       "  </tbody>\n",
       "</table>\n",
       "<p>8 rows × 30 columns</p>\n",
       "</div>"
      ],
      "text/plain": [
       "       AHU9 CHW Offcoil Temperature (1 minute)  \\\n",
       "count                            183991.000000   \n",
       "mean                                 17.552355   \n",
       "std                                   3.622785   \n",
       "min                                   4.310960   \n",
       "25%                                  15.462800   \n",
       "50%                                  18.516399   \n",
       "75%                                  20.162500   \n",
       "max                                  27.312601   \n",
       "\n",
       "       AHU9 CHW Valve Position (1 minute)  \\\n",
       "count                       183991.000000   \n",
       "mean                             1.261905   \n",
       "std                             10.716082   \n",
       "min                              0.000000   \n",
       "25%                              0.000000   \n",
       "50%                              0.000000   \n",
       "75%                              0.000000   \n",
       "max                            100.000000   \n",
       "\n",
       "       AHU9 Fresh Air Damper Position (1 minute)  \\\n",
       "count                              183991.000000   \n",
       "mean                                   10.024924   \n",
       "std                                    19.144843   \n",
       "min                                     0.000000   \n",
       "25%                                     0.000000   \n",
       "50%                                     0.000000   \n",
       "75%                                    19.954111   \n",
       "max                                   100.000000   \n",
       "\n",
       "       AHU9 Frost Coil Valve Position (1 minute)  \\\n",
       "count                              183991.000000   \n",
       "mean                                    0.970922   \n",
       "std                                     3.171134   \n",
       "min                                     0.000000   \n",
       "25%                                     0.000000   \n",
       "50%                                     0.000000   \n",
       "75%                                     0.000000   \n",
       "max                                    99.989998   \n",
       "\n",
       "       AHU9 Frost Offcoil Temperature (1 minute)  \\\n",
       "count                              183991.000000   \n",
       "mean                                   18.721040   \n",
       "std                                     4.121909   \n",
       "min                                     4.062540   \n",
       "25%                                    16.725601   \n",
       "50%                                    19.818899   \n",
       "75%                                    21.180000   \n",
       "max                                    28.398001   \n",
       "\n",
       "       AHU9 Humidity Control Output (1 minute)  \\\n",
       "count                            183991.000000   \n",
       "mean                                  3.419359   \n",
       "std                                  11.638333   \n",
       "min                                   0.000000   \n",
       "25%                                   0.000000   \n",
       "50%                                   0.000000   \n",
       "75%                                   0.000000   \n",
       "max                                 100.000000   \n",
       "\n",
       "       AHU9 Reheat Coil Valve Positio (1 minute)  \\\n",
       "count                              183991.000000   \n",
       "mean                                    2.847819   \n",
       "std                                    10.413402   \n",
       "min                                     0.000000   \n",
       "25%                                     0.000000   \n",
       "50%                                     0.000000   \n",
       "75%                                     0.000000   \n",
       "max                                   100.000000   \n",
       "\n",
       "       AHU9 Reheat Offcoil Temperatur (1 minute)  \\\n",
       "count                              183991.000000   \n",
       "mean                                   18.284871   \n",
       "std                                     4.478354   \n",
       "min                                     3.690580   \n",
       "25%                                    16.020000   \n",
       "50%                                    19.369001   \n",
       "75%                                    20.909201   \n",
       "max                                    52.909000   \n",
       "\n",
       "       AHU9 Return Air Humidity (1 minute)  \\\n",
       "count                        183991.000000   \n",
       "mean                             73.676607   \n",
       "std                              13.181021   \n",
       "min                              40.250000   \n",
       "25%                              58.577198   \n",
       "50%                              77.677597   \n",
       "75%                              85.537201   \n",
       "max                              92.604698   \n",
       "\n",
       "       AHU9 Return Air Temperature (1 minute)  ...  \\\n",
       "count                           183991.000000  ...   \n",
       "mean                                12.587029  ...   \n",
       "std                                  5.146174  ...   \n",
       "min                                  2.014000  ...   \n",
       "25%                                  8.269490  ...   \n",
       "50%                                 11.344190  ...   \n",
       "75%                                 18.839556  ...   \n",
       "max                                 29.067020  ...   \n",
       "\n",
       "       Post Heating Coil Humidity (1 minute)  \\\n",
       "count                          183991.000000   \n",
       "mean                               54.357003   \n",
       "std                                 7.889272   \n",
       "min                                30.140000   \n",
       "25%                                48.620000   \n",
       "50%                                51.910000   \n",
       "75%                                59.040000   \n",
       "max                                93.900000   \n",
       "\n",
       "       Post Cooling Coil Humidity (1 minute)  \\\n",
       "count                          183991.000000   \n",
       "mean                               54.488885   \n",
       "std                                 8.273928   \n",
       "min                                22.940000   \n",
       "25%                                49.090000   \n",
       "50%                                51.910000   \n",
       "75%                                59.050000   \n",
       "max                                92.740000   \n",
       "\n",
       "       Post Reheat Coil Humidity (1 minute)  Supply Air Velocity (1 minute)  \\\n",
       "count                         183991.000000                   183991.000000   \n",
       "mean                              60.526760                        0.335995   \n",
       "std                                9.141178                        0.563279   \n",
       "min                               15.890000                        0.000000   \n",
       "25%                               53.700000                        0.000000   \n",
       "50%                               60.220000                        0.000000   \n",
       "75%                               66.810000                        1.220000   \n",
       "max                               95.270000                        1.390000   \n",
       "\n",
       "       Chilled Water Comm Flo Temp (1 minute)  \\\n",
       "count                            183991.00000   \n",
       "mean                                  9.48776   \n",
       "std                                   2.25472   \n",
       "min                                   0.39600   \n",
       "25%                                   9.19900   \n",
       "50%                                  10.04000   \n",
       "75%                                  10.67900   \n",
       "max                                  14.84400   \n",
       "\n",
       "       Chilled Water Comm Rtn Temp (1 minute)  \\\n",
       "count                           183991.000000   \n",
       "mean                                 9.822103   \n",
       "std                                  2.222389   \n",
       "min                                  0.588000   \n",
       "25%                                  9.765000   \n",
       "50%                                 10.390000   \n",
       "75%                                 10.862000   \n",
       "max                                 15.842000   \n",
       "\n",
       "       Boilers Com Flow Temp (1 minute)  Boiler Com Rtn Temp (1 minute)  \\\n",
       "count                     183991.000000                   183991.000000   \n",
       "mean                          63.026734                       59.342712   \n",
       "std                           10.610351                       10.240399   \n",
       "min                           10.862000                        7.874000   \n",
       "25%                           63.320000                       59.655998   \n",
       "50%                           67.011002                       62.727001   \n",
       "75%                           68.750999                       64.849998   \n",
       "max                           82.116997                       77.528999   \n",
       "\n",
       "       Post Return Fan Temperture (1 minute)  \\\n",
       "count                          183991.000000   \n",
       "mean                               13.801799   \n",
       "std                                 5.272638   \n",
       "min                                 3.150000   \n",
       "25%                                 9.400000   \n",
       "50%                                13.060000   \n",
       "75%                                19.700000   \n",
       "max                                27.490000   \n",
       "\n",
       "       Post Supply Fan Temperture (1 minute)  \n",
       "count                          183991.000000  \n",
       "mean                               13.819292  \n",
       "std                                 5.277837  \n",
       "min                                 3.640000  \n",
       "25%                                 9.640000  \n",
       "50%                                12.690000  \n",
       "75%                                19.300000  \n",
       "max                                48.890000  \n",
       "\n",
       "[8 rows x 30 columns]"
      ]
     },
     "execution_count": 34,
     "metadata": {},
     "output_type": "execute_result"
    }
   ],
   "source": [
    "dat.describe()"
   ]
  },
  {
   "cell_type": "code",
   "execution_count": 35,
   "metadata": {
    "scrolled": false
   },
   "outputs": [
    {
     "data": {
      "text/plain": [
       "0.000000      180532\n",
       "99.989998       1813\n",
       "100.000000       102\n",
       "49.490002         49\n",
       "98.989899         31\n",
       "               ...  \n",
       "36.360001          1\n",
       "3.279600           1\n",
       "0.762660           1\n",
       "8.148001           1\n",
       "1.280400           1\n",
       "Name: AHU9 CHW Valve Position (1 minute), Length: 690, dtype: int64"
      ]
     },
     "execution_count": 35,
     "metadata": {},
     "output_type": "execute_result"
    }
   ],
   "source": [
    "countVP = dat['AHU9 CHW Valve Position (1 minute)'].value_counts()\n",
    "countVP"
   ]
  },
  {
   "cell_type": "code",
   "execution_count": 36,
   "metadata": {},
   "outputs": [
    {
     "data": {
      "text/plain": [
       "<matplotlib.axes._subplots.AxesSubplot at 0x12a07816788>"
      ]
     },
     "execution_count": 36,
     "metadata": {},
     "output_type": "execute_result"
    },
    {
     "data": {
      "image/png": "[encoded data removed]",
      "text/plain": [
       "<Figure size 720x360 with 1 Axes>"
      ]
     },
     "metadata": {},
     "output_type": "display_data"
    }
   ],
   "source": [
    "countVP.plot(kind='pie')"
   ]
  },
  {
   "cell_type": "code",
   "execution_count": null,
   "metadata": {},
   "outputs": [],
   "source": []
  }
 ],
 "metadata": {
  "kernelspec": {
   "display_name": "Python 3",
   "language": "python",
   "name": "python3"
  },
  "language_info": {
   "codemirror_mode": {
    "name": "ipython",
    "version": 3
   },
   "file_extension": ".py",
   "mimetype": "text/x-python",
   "name": "python",
   "nbconvert_exporter": "python",
   "pygments_lexer": "ipython3",
   "version": "3.7.4"
  }
 },
 "nbformat": 4,
 "nbformat_minor": 4
}
